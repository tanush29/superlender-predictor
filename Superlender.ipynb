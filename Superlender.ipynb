{
  "nbformat": 4,
  "nbformat_minor": 0,
  "metadata": {
    "colab": {
      "name": "Hackathon 4.ipynb",
      "provenance": [],
      "collapsed_sections": []
    },
    "kernelspec": {
      "name": "python3",
      "display_name": "Python 3"
    },
    "language_info": {
      "name": "python"
    }
  },
  "cells": [
    {
      "cell_type": "markdown",
      "source": [
        "# Loan Default Prediction \n",
        "SuperLender is a local digital lending company. SuperLender wants to build machine learning model to lower the risk of loan default and deliver profitable and high-impact loan alternative. Now, try to predict if a loan was good or bad. This is binary classification business problem, where Good is 1 and Bad is 0.\n",
        "Source : https://zindi.africa/competitions/data-science-nigeria-challenge-1-loan-default-prediction\n",
        "\n",
        "We are not given the relative impact of false negatives (versus other outcomes). You are free to make your own assumptions. \n",
        "\n"
      ],
      "metadata": {
        "id": "bod7o4QC0l7u"
      }
    },
    {
      "cell_type": "markdown",
      "source": [
        "#Columns, Description \n",
        "\n",
        "## **a) Demographic data (traindemographics.csv)**\n",
        "- **customerid** (Primary key used to merge to other data)\n",
        "- **birthdate** (date of birth of the customer)\n",
        "- **bank_account_type** (type of primary bank account)\n",
        "- **longitude_gps**\n",
        "- **latitude_gps**\n",
        "- **bank_name_clients** (name of the bank)\n",
        "- **bank_branch_clients** (location of the branch - not compulsory - so missing in a lot of the cases)\n",
        "- **employment_status_clients** (type of employment that customer has)\n",
        "- **level_of_education_clients** (highest level of education)\n",
        "\n",
        "## **b) Performance data (trainperf.csv)**\n",
        "- **customerid** (Primary key used to merge to other data)\n",
        "-**systemloanid** (The id associated with the particular loan. The same customerId can have multiple systemloanid’s for each loan he/she has taken out)\n",
        "- **loannumber** (The number of the loan that you have to predict)\n",
        "- **approveddate** (Date that loan was approved)\n",
        "- **creationdate** (Date that loan application was created)\n",
        "- **loanamount** (Loan value taken)\n",
        "- **totaldue** (Total repayment required to settle the loan - this is the capital loan value disbursed +interest and fees)\n",
        "- **termdays** (Term of loan)\n",
        "- **referredby** (customerId of the customer that referred this person - is missing, then not referred)\n",
        "- **good_bad_flag** (good = settled loan on time; bad = did not settled loan on time) - this is the target variable that we need to predict\n"
      ],
      "metadata": {
        "id": "cnS-UBCK0oH1"
      }
    },
    {
      "cell_type": "markdown",
      "source": [
        "# Instruction \n",
        "Using the data, and code from the M4 classification Python notebooks, and other resources, as appropriate:\n",
        "\n",
        "* Formulate a business problem that can be solved by classifiers, identify appropriate metrics to evaluate the suitability of a classifier solution for the business problem, stage a horse race of classifiers for the business problem, documenting your results, and determine if the classification results offer an appropriate solution to the business problem.\n",
        "\n",
        "* Summarize your findings and an action items in a few sentences at the end of the notebook (in a section titled “Conclusion”). Be sure to offer the Bottom Line Up Front (BLUF) at the start of the Conclusion.\n",
        "\n",
        "* Submit your notebook file on Blackboard, double checking that you have submitted the correct file.\n",
        "\n",
        "Download the **\"traindemographics.csv\"** and **\"trainperf.csv\"** dataset from the source. \n",
        "\n",
        "**Source** : https://zindi.africa/competitions/data-science-nigeria-challenge-1-loan-default-prediction/data\n",
        "Start the hackathon by running the code below. \n",
        "\n",
        "When you read the csv files from the google drive, locate the files under the given names. These two files will be merged. \n",
        "- **file_1** is **\"trainperf.csv\"**\n",
        "- **file_2** is **\"traindemographics.csv\"**"
      ],
      "metadata": {
        "id": "BSU9PJ8U0qXU"
      }
    },
    {
      "cell_type": "code",
      "source": [
        "# Basic Libraries\n",
        "import pandas as pd\n",
        "import seaborn as sns\n",
        "\n",
        "import numpy as np\n",
        "from numpy import mean\n",
        "from numpy import std\n",
        "\n",
        "import matplotlib.pyplot as plt\n",
        "from matplotlib.colors import ListedColormap\n",
        "from scipy.stats.mstats import winsorize\n",
        "import scipy.stats as ss\n",
        "import math\n",
        "import seaborn as sns\n",
        "from datetime import datetime"
      ],
      "metadata": {
        "id": "O0XQvPv3d2Ub"
      },
      "execution_count": null,
      "outputs": []
    },
    {
      "cell_type": "code",
      "source": [
        "# Scikit learn\n",
        "from sklearn.model_selection import train_test_split\n",
        "from sklearn.preprocessing import StandardScaler\n",
        "from sklearn.linear_model import Perceptron\n",
        "from sklearn.naive_bayes import GaussianNB\n",
        "from sklearn.neighbors import KNeighborsClassifier\n",
        "from sklearn.svm import SVC\n",
        "from sklearn.tree import DecisionTreeClassifier\n",
        "from sklearn.decomposition import PCA\n",
        "from sklearn.linear_model import LogisticRegression\n",
        "from sklearn.neural_network import MLPClassifier\n",
        "from sklearn.ensemble import RandomForestClassifier\n",
        "from sklearn.ensemble import RandomForestClassifier\n",
        "from sklearn.pipeline import make_pipeline\n",
        "from sklearn.metrics import confusion_matrix\n",
        "from sklearn.metrics import classification_report\n",
        "from sklearn.metrics import roc_auc_score\n",
        "from sklearn.metrics import log_loss\n",
        "from sklearn.metrics import balanced_accuracy_score\n",
        "from sklearn.metrics import f1_score\n",
        "from sklearn.model_selection import cross_val_score\n",
        "from sklearn.pipeline import Pipeline\n",
        "from sklearn.model_selection import KFold\n",
        "from sklearn.model_selection import StratifiedKFold\n",
        "from sklearn.model_selection import RepeatedStratifiedKFold\n",
        "from sklearn.model_selection import learning_curve\n",
        "from sklearn.model_selection import GridSearchCV\n",
        "from sklearn.metrics import accuracy_score, precision_score, recall_score, f1_score, roc_auc_score, confusion_matrix"
      ],
      "metadata": {
        "id": "HnKiAXhfd3ml"
      },
      "execution_count": null,
      "outputs": []
    },
    {
      "cell_type": "code",
      "source": [
        "# XGBoost\n",
        "from xgboost import XGBClassifier"
      ],
      "metadata": {
        "id": "WM0SMmg9Nu4a"
      },
      "execution_count": null,
      "outputs": []
    },
    {
      "cell_type": "code",
      "source": [
        "# LightGBM\n",
        "#!pip install lightgbm\n",
        "from lightgbm import LGBMClassifier"
      ],
      "metadata": {
        "id": "zhJM_ZZANvxo"
      },
      "execution_count": null,
      "outputs": []
    },
    {
      "cell_type": "code",
      "source": [
        "# imblearn\n",
        "from imblearn.over_sampling import SMOTE\n",
        "from imblearn.pipeline import Pipeline as imbpipeline"
      ],
      "metadata": {
        "id": "JbmF0QTbNzVV"
      },
      "execution_count": null,
      "outputs": []
    },
    {
      "cell_type": "markdown",
      "source": [
        "# **Read Dataset**"
      ],
      "metadata": {
        "id": "GJpZwy6zMRQ-"
      }
    },
    {
      "cell_type": "code",
      "source": [
        "# Mount drive\n",
        "from google.colab import drive\n",
        "drive.mount('/content/drive')"
      ],
      "metadata": {
        "colab": {
          "base_uri": "https://localhost:8080/"
        },
        "id": "_YSGxu9OTnjp",
        "outputId": "4044a5f5-babc-4a67-e51d-f9f14944dbfa"
      },
      "execution_count": null,
      "outputs": [
        {
          "output_type": "stream",
          "name": "stdout",
          "text": [
            "Drive already mounted at /content/drive; to attempt to forcibly remount, call drive.mount(\"/content/drive\", force_remount=True).\n"
          ]
        }
      ]
    },
    {
      "cell_type": "code",
      "execution_count": null,
      "metadata": {
        "id": "XqA_y5bN0k2R"
      },
      "outputs": [],
      "source": [
        "# Read two files \n",
        "file_1 = \"/content/drive/MyDrive/Hackathon/M4/trainperf.csv\"   # adapt this as needed to the file structure on your Google drive\n",
        "df1 = pd.read_csv(file_1) # read in csv file\n",
        "\n",
        "file_2= \"/content/drive/MyDrive/Hackathon/M4/traindemographics.csv\"   \n",
        "df2 = pd.read_csv(file_2) # read in csv file"
      ]
    },
    {
      "cell_type": "code",
      "source": [
        "# Merge two files using inner join\n",
        "result = pd.merge(df1, df2, how='inner', on='customerid')"
      ],
      "metadata": {
        "id": "k6uYYg988Jas"
      },
      "execution_count": null,
      "outputs": []
    },
    {
      "cell_type": "markdown",
      "source": [
        "# **EDA**"
      ],
      "metadata": {
        "id": "xl19aCF9DmMK"
      }
    },
    {
      "cell_type": "code",
      "source": [
        "result.head()"
      ],
      "metadata": {
        "id": "CJu36odWA-1i",
        "colab": {
          "base_uri": "https://localhost:8080/",
          "height": 353
        },
        "outputId": "bbab8eac-de39-43f9-ddce-e2eef0cbd0a7"
      },
      "execution_count": null,
      "outputs": [
        {
          "output_type": "execute_result",
          "data": {
            "text/html": [
              "\n",
              "  <div id=\"df-3e5dfd3a-43ba-4fb6-b228-5bf7bc84d346\">\n",
              "    <div class=\"colab-df-container\">\n",
              "      <div>\n",
              "<style scoped>\n",
              "    .dataframe tbody tr th:only-of-type {\n",
              "        vertical-align: middle;\n",
              "    }\n",
              "\n",
              "    .dataframe tbody tr th {\n",
              "        vertical-align: top;\n",
              "    }\n",
              "\n",
              "    .dataframe thead th {\n",
              "        text-align: right;\n",
              "    }\n",
              "</style>\n",
              "<table border=\"1\" class=\"dataframe\">\n",
              "  <thead>\n",
              "    <tr style=\"text-align: right;\">\n",
              "      <th></th>\n",
              "      <th>customerid</th>\n",
              "      <th>systemloanid</th>\n",
              "      <th>loannumber</th>\n",
              "      <th>approveddate</th>\n",
              "      <th>creationdate</th>\n",
              "      <th>loanamount</th>\n",
              "      <th>totaldue</th>\n",
              "      <th>termdays</th>\n",
              "      <th>referredby</th>\n",
              "      <th>good_bad_flag</th>\n",
              "      <th>birthdate</th>\n",
              "      <th>bank_account_type</th>\n",
              "      <th>longitude_gps</th>\n",
              "      <th>latitude_gps</th>\n",
              "      <th>bank_name_clients</th>\n",
              "      <th>bank_branch_clients</th>\n",
              "      <th>employment_status_clients</th>\n",
              "      <th>level_of_education_clients</th>\n",
              "    </tr>\n",
              "  </thead>\n",
              "  <tbody>\n",
              "    <tr>\n",
              "      <th>0</th>\n",
              "      <td>8a2a81a74ce8c05d014cfb32a0da1049</td>\n",
              "      <td>301994762</td>\n",
              "      <td>12</td>\n",
              "      <td>2017-07-25 08:22:56.000000</td>\n",
              "      <td>2017-07-25 07:22:47.000000</td>\n",
              "      <td>30000.0</td>\n",
              "      <td>34500.0</td>\n",
              "      <td>30</td>\n",
              "      <td>NaN</td>\n",
              "      <td>Good</td>\n",
              "      <td>1972-01-15 00:00:00.000000</td>\n",
              "      <td>Other</td>\n",
              "      <td>3.432010</td>\n",
              "      <td>6.433055</td>\n",
              "      <td>Diamond Bank</td>\n",
              "      <td>NaN</td>\n",
              "      <td>Permanent</td>\n",
              "      <td>Post-Graduate</td>\n",
              "    </tr>\n",
              "    <tr>\n",
              "      <th>1</th>\n",
              "      <td>8a85886e54beabf90154c0a29ae757c0</td>\n",
              "      <td>301965204</td>\n",
              "      <td>2</td>\n",
              "      <td>2017-07-05 17:04:41.000000</td>\n",
              "      <td>2017-07-05 16:04:18.000000</td>\n",
              "      <td>15000.0</td>\n",
              "      <td>17250.0</td>\n",
              "      <td>30</td>\n",
              "      <td>NaN</td>\n",
              "      <td>Good</td>\n",
              "      <td>1985-08-23 00:00:00.000000</td>\n",
              "      <td>Savings</td>\n",
              "      <td>3.885298</td>\n",
              "      <td>7.320700</td>\n",
              "      <td>GT Bank</td>\n",
              "      <td>DUGBE,IBADAN</td>\n",
              "      <td>Permanent</td>\n",
              "      <td>Graduate</td>\n",
              "    </tr>\n",
              "    <tr>\n",
              "      <th>2</th>\n",
              "      <td>8a8588f35438fe12015444567666018e</td>\n",
              "      <td>301966580</td>\n",
              "      <td>7</td>\n",
              "      <td>2017-07-06 14:52:57.000000</td>\n",
              "      <td>2017-07-06 13:52:51.000000</td>\n",
              "      <td>20000.0</td>\n",
              "      <td>22250.0</td>\n",
              "      <td>15</td>\n",
              "      <td>NaN</td>\n",
              "      <td>Good</td>\n",
              "      <td>1984-09-18 00:00:00.000000</td>\n",
              "      <td>Other</td>\n",
              "      <td>11.139350</td>\n",
              "      <td>10.292041</td>\n",
              "      <td>EcoBank</td>\n",
              "      <td>NaN</td>\n",
              "      <td>Permanent</td>\n",
              "      <td>NaN</td>\n",
              "    </tr>\n",
              "    <tr>\n",
              "      <th>3</th>\n",
              "      <td>8a85890754145ace015429211b513e16</td>\n",
              "      <td>301999343</td>\n",
              "      <td>3</td>\n",
              "      <td>2017-07-27 19:00:41.000000</td>\n",
              "      <td>2017-07-27 18:00:35.000000</td>\n",
              "      <td>10000.0</td>\n",
              "      <td>11500.0</td>\n",
              "      <td>15</td>\n",
              "      <td>NaN</td>\n",
              "      <td>Good</td>\n",
              "      <td>1977-10-10 00:00:00.000000</td>\n",
              "      <td>Savings</td>\n",
              "      <td>3.985770</td>\n",
              "      <td>7.491708</td>\n",
              "      <td>First Bank</td>\n",
              "      <td>NaN</td>\n",
              "      <td>Permanent</td>\n",
              "      <td>NaN</td>\n",
              "    </tr>\n",
              "    <tr>\n",
              "      <th>4</th>\n",
              "      <td>8a858970548359cc0154883481981866</td>\n",
              "      <td>301962360</td>\n",
              "      <td>9</td>\n",
              "      <td>2017-07-03 23:42:45.000000</td>\n",
              "      <td>2017-07-03 22:42:39.000000</td>\n",
              "      <td>40000.0</td>\n",
              "      <td>44000.0</td>\n",
              "      <td>30</td>\n",
              "      <td>NaN</td>\n",
              "      <td>Good</td>\n",
              "      <td>1986-09-07 00:00:00.000000</td>\n",
              "      <td>Other</td>\n",
              "      <td>7.457913</td>\n",
              "      <td>9.076574</td>\n",
              "      <td>GT Bank</td>\n",
              "      <td>NaN</td>\n",
              "      <td>Permanent</td>\n",
              "      <td>Primary</td>\n",
              "    </tr>\n",
              "  </tbody>\n",
              "</table>\n",
              "</div>\n",
              "      <button class=\"colab-df-convert\" onclick=\"convertToInteractive('df-3e5dfd3a-43ba-4fb6-b228-5bf7bc84d346')\"\n",
              "              title=\"Convert this dataframe to an interactive table.\"\n",
              "              style=\"display:none;\">\n",
              "        \n",
              "  <svg xmlns=\"http://www.w3.org/2000/svg\" height=\"24px\"viewBox=\"0 0 24 24\"\n",
              "       width=\"24px\">\n",
              "    <path d=\"M0 0h24v24H0V0z\" fill=\"none\"/>\n",
              "    <path d=\"M18.56 5.44l.94 2.06.94-2.06 2.06-.94-2.06-.94-.94-2.06-.94 2.06-2.06.94zm-11 1L8.5 8.5l.94-2.06 2.06-.94-2.06-.94L8.5 2.5l-.94 2.06-2.06.94zm10 10l.94 2.06.94-2.06 2.06-.94-2.06-.94-.94-2.06-.94 2.06-2.06.94z\"/><path d=\"M17.41 7.96l-1.37-1.37c-.4-.4-.92-.59-1.43-.59-.52 0-1.04.2-1.43.59L10.3 9.45l-7.72 7.72c-.78.78-.78 2.05 0 2.83L4 21.41c.39.39.9.59 1.41.59.51 0 1.02-.2 1.41-.59l7.78-7.78 2.81-2.81c.8-.78.8-2.07 0-2.86zM5.41 20L4 18.59l7.72-7.72 1.47 1.35L5.41 20z\"/>\n",
              "  </svg>\n",
              "      </button>\n",
              "      \n",
              "  <style>\n",
              "    .colab-df-container {\n",
              "      display:flex;\n",
              "      flex-wrap:wrap;\n",
              "      gap: 12px;\n",
              "    }\n",
              "\n",
              "    .colab-df-convert {\n",
              "      background-color: #E8F0FE;\n",
              "      border: none;\n",
              "      border-radius: 50%;\n",
              "      cursor: pointer;\n",
              "      display: none;\n",
              "      fill: #1967D2;\n",
              "      height: 32px;\n",
              "      padding: 0 0 0 0;\n",
              "      width: 32px;\n",
              "    }\n",
              "\n",
              "    .colab-df-convert:hover {\n",
              "      background-color: #E2EBFA;\n",
              "      box-shadow: 0px 1px 2px rgba(60, 64, 67, 0.3), 0px 1px 3px 1px rgba(60, 64, 67, 0.15);\n",
              "      fill: #174EA6;\n",
              "    }\n",
              "\n",
              "    [theme=dark] .colab-df-convert {\n",
              "      background-color: #3B4455;\n",
              "      fill: #D2E3FC;\n",
              "    }\n",
              "\n",
              "    [theme=dark] .colab-df-convert:hover {\n",
              "      background-color: #434B5C;\n",
              "      box-shadow: 0px 1px 3px 1px rgba(0, 0, 0, 0.15);\n",
              "      filter: drop-shadow(0px 1px 2px rgba(0, 0, 0, 0.3));\n",
              "      fill: #FFFFFF;\n",
              "    }\n",
              "  </style>\n",
              "\n",
              "      <script>\n",
              "        const buttonEl =\n",
              "          document.querySelector('#df-3e5dfd3a-43ba-4fb6-b228-5bf7bc84d346 button.colab-df-convert');\n",
              "        buttonEl.style.display =\n",
              "          google.colab.kernel.accessAllowed ? 'block' : 'none';\n",
              "\n",
              "        async function convertToInteractive(key) {\n",
              "          const element = document.querySelector('#df-3e5dfd3a-43ba-4fb6-b228-5bf7bc84d346');\n",
              "          const dataTable =\n",
              "            await google.colab.kernel.invokeFunction('convertToInteractive',\n",
              "                                                     [key], {});\n",
              "          if (!dataTable) return;\n",
              "\n",
              "          const docLinkHtml = 'Like what you see? Visit the ' +\n",
              "            '<a target=\"_blank\" href=https://colab.research.google.com/notebooks/data_table.ipynb>data table notebook</a>'\n",
              "            + ' to learn more about interactive tables.';\n",
              "          element.innerHTML = '';\n",
              "          dataTable['output_type'] = 'display_data';\n",
              "          await google.colab.output.renderOutput(dataTable, element);\n",
              "          const docLink = document.createElement('div');\n",
              "          docLink.innerHTML = docLinkHtml;\n",
              "          element.appendChild(docLink);\n",
              "        }\n",
              "      </script>\n",
              "    </div>\n",
              "  </div>\n",
              "  "
            ],
            "text/plain": [
              "                         customerid  ...  level_of_education_clients\n",
              "0  8a2a81a74ce8c05d014cfb32a0da1049  ...               Post-Graduate\n",
              "1  8a85886e54beabf90154c0a29ae757c0  ...                    Graduate\n",
              "2  8a8588f35438fe12015444567666018e  ...                         NaN\n",
              "3  8a85890754145ace015429211b513e16  ...                         NaN\n",
              "4  8a858970548359cc0154883481981866  ...                     Primary\n",
              "\n",
              "[5 rows x 18 columns]"
            ]
          },
          "metadata": {},
          "execution_count": 12
        }
      ]
    },
    {
      "cell_type": "code",
      "source": [
        "# customer ID and System ID are deleted, as they don't add information to the model\n",
        "# bank_branch_clients is deleted to reduce the # of features after encoding\n",
        "# loannumber, approveddate, creationdate, and referredby are deleted, as they don't add much value \n",
        "result = result.drop(columns=['customerid', 'systemloanid','bank_branch_clients','loannumber','approveddate','creationdate','referredby'])"
      ],
      "metadata": {
        "id": "IWgVtzCceXJe"
      },
      "execution_count": null,
      "outputs": []
    },
    {
      "cell_type": "code",
      "source": [
        "# Shape of df\n",
        "print(\"Shape\", result.shape)\n",
        "\n",
        "# Check data types\n",
        "print(result.info())"
      ],
      "metadata": {
        "id": "oGUGCgRr0uUI",
        "colab": {
          "base_uri": "https://localhost:8080/"
        },
        "outputId": "bdc407d6-fd3e-4c47-c403-95312bbcd3c5"
      },
      "execution_count": null,
      "outputs": [
        {
          "output_type": "stream",
          "name": "stdout",
          "text": [
            "Shape (3277, 11)\n",
            "<class 'pandas.core.frame.DataFrame'>\n",
            "Int64Index: 3277 entries, 0 to 3276\n",
            "Data columns (total 11 columns):\n",
            " #   Column                      Non-Null Count  Dtype  \n",
            "---  ------                      --------------  -----  \n",
            " 0   loanamount                  3277 non-null   float64\n",
            " 1   totaldue                    3277 non-null   float64\n",
            " 2   termdays                    3277 non-null   int64  \n",
            " 3   good_bad_flag               3277 non-null   object \n",
            " 4   birthdate                   3277 non-null   object \n",
            " 5   bank_account_type           3277 non-null   object \n",
            " 6   longitude_gps               3277 non-null   float64\n",
            " 7   latitude_gps                3277 non-null   float64\n",
            " 8   bank_name_clients           3277 non-null   object \n",
            " 9   employment_status_clients   2784 non-null   object \n",
            " 10  level_of_education_clients  443 non-null    object \n",
            "dtypes: float64(4), int64(1), object(6)\n",
            "memory usage: 307.2+ KB\n",
            "None\n"
          ]
        }
      ]
    },
    {
      "cell_type": "code",
      "source": [
        "# Describe Dataset \n",
        "print(\"\\n DESCRIBE\\n\",result.describe())"
      ],
      "metadata": {
        "id": "uDhhuHqB00fa",
        "colab": {
          "base_uri": "https://localhost:8080/"
        },
        "outputId": "994f5c95-390f-4003-89a7-d7881c3149a1"
      },
      "execution_count": null,
      "outputs": [
        {
          "output_type": "stream",
          "name": "stdout",
          "text": [
            "\n",
            " DESCRIBE\n",
            "          loanamount      totaldue     termdays  longitude_gps  latitude_gps\n",
            "count   3277.000000   3277.000000  3277.000000    3277.000000   3277.000000\n",
            "mean   17830.332621  21280.569271    29.258468       4.534611      7.292799\n",
            "std    10742.059352  11929.316405    11.405342       7.916626      3.268758\n",
            "min    10000.000000  10000.000000    15.000000    -118.247009    -33.868818\n",
            "25%    10000.000000  13000.000000    30.000000       3.354984      6.473645\n",
            "50%    10000.000000  13000.000000    30.000000       3.587546      6.625954\n",
            "75%    20000.000000  24500.000000    30.000000       6.478157      7.429882\n",
            "max    60000.000000  68100.000000    90.000000     151.209290     71.228069\n"
          ]
        }
      ]
    },
    {
      "cell_type": "code",
      "source": [
        "# Check Skewness\n",
        "print(\"\\n SKEWNESS\\n\",result.skew())"
      ],
      "metadata": {
        "id": "T8_y6Gu20134",
        "colab": {
          "base_uri": "https://localhost:8080/"
        },
        "outputId": "0c67b2f1-033c-4c47-fbb8-4bf23057a4d6"
      },
      "execution_count": null,
      "outputs": [
        {
          "output_type": "stream",
          "name": "stdout",
          "text": [
            "\n",
            " SKEWNESS\n",
            " loanamount       1.241791\n",
            "totaldue         1.154553\n",
            "termdays         1.875509\n",
            "longitude_gps   -3.211137\n",
            "latitude_gps     9.342461\n",
            "dtype: float64\n"
          ]
        },
        {
          "output_type": "stream",
          "name": "stderr",
          "text": [
            "/usr/local/lib/python3.7/dist-packages/ipykernel_launcher.py:2: FutureWarning: Dropping of nuisance columns in DataFrame reductions (with 'numeric_only=None') is deprecated; in a future version this will raise TypeError.  Select only valid columns before calling the reduction.\n",
            "  \n"
          ]
        }
      ]
    },
    {
      "cell_type": "code",
      "source": [
        "# Check Skewness\n",
        "print(\"\\n kurtosis\\n\",result.kurtosis())"
      ],
      "metadata": {
        "id": "7-Q6tsXCD78I",
        "colab": {
          "base_uri": "https://localhost:8080/"
        },
        "outputId": "f4e611f9-baa9-41f4-8aa7-3e25f2cfe1b2"
      },
      "execution_count": null,
      "outputs": [
        {
          "output_type": "stream",
          "name": "stdout",
          "text": [
            "\n",
            " kurtosis\n",
            " loanamount         0.620163\n",
            "totaldue           0.283694\n",
            "termdays           6.226940\n",
            "longitude_gps    166.777991\n",
            "latitude_gps     143.510897\n",
            "dtype: float64\n"
          ]
        },
        {
          "output_type": "stream",
          "name": "stderr",
          "text": [
            "/usr/local/lib/python3.7/dist-packages/ipykernel_launcher.py:2: FutureWarning: Dropping of nuisance columns in DataFrame reductions (with 'numeric_only=None') is deprecated; in a future version this will raise TypeError.  Select only valid columns before calling the reduction.\n",
            "  \n"
          ]
        }
      ]
    },
    {
      "cell_type": "code",
      "source": [
        "# Multivariate numerical descriptive statistics\n",
        "\n",
        "#Correlation Matrix\n",
        "print(\"CORRELATION MATRIX\\n\",result.corr())\n",
        "print(\"\\n\\n\")\n",
        "\n",
        "#Correlation Matrix as a Heatmap\n",
        "sns.set_style('darkgrid')\n",
        "plt.figure(figsize = (10,5))\n",
        "cmap = sns.diverging_palette(120, 10, l = 40, s = 99, sep = 20, center = 'light', as_cmap = True) \n",
        "sns.heatmap((result).corr(), vmin = -1, vmax = 1, annot = True, cmap = cmap, lw = .5, linecolor = 'white')\n",
        "plt.title(\"Dataset Correlation Heatmap\")\n",
        "plt.show()\n",
        "\n",
        "# Covariance Matrix\n",
        "print(\"\\n\\nCOVARIANCE MATRIX\\n\",result.cov())\n",
        "print(\"\\n\\n\")\n",
        "\n",
        "#Covariance Matrix as a Heatmap\n",
        "sns.set_style('darkgrid')\n",
        "plt.figure(figsize = (10,5))\n",
        "cmap = sns.diverging_palette(220, 20, l = 40, s = 99, sep = 20, center = 'light', as_cmap = True) \n",
        "sns.heatmap((result).cov(), vmin = -0.5, vmax = 3.5, annot = True, cmap = cmap, lw = .5, linecolor = 'white')\n",
        "plt.title(\"Dataset Covariance Heatmap\")\n",
        "plt.show()"
      ],
      "metadata": {
        "id": "Zr39MHjn03HG",
        "colab": {
          "base_uri": "https://localhost:8080/",
          "height": 1000
        },
        "outputId": "d471d9cd-9342-41cc-d805-e903e49c63b5"
      },
      "execution_count": null,
      "outputs": [
        {
          "output_type": "stream",
          "name": "stdout",
          "text": [
            "CORRELATION MATRIX\n",
            "                loanamount  totaldue  termdays  longitude_gps  latitude_gps\n",
            "loanamount       1.000000  0.994311  0.551188      -0.001301      0.010006\n",
            "totaldue         0.994311  1.000000  0.621356      -0.001766      0.007852\n",
            "termdays         0.551188  0.621356  1.000000       0.003204     -0.008003\n",
            "longitude_gps   -0.001301 -0.001766  0.003204       1.000000     -0.253237\n",
            "latitude_gps     0.010006  0.007852 -0.008003      -0.253237      1.000000\n",
            "\n",
            "\n",
            "\n"
          ]
        },
        {
          "output_type": "display_data",
          "data": {
            "image/png": "[encoded data removed]",
            "text/plain": [
              "<Figure size 720x360 with 2 Axes>"
            ]
          },
          "metadata": {}
        },
        {
          "output_type": "stream",
          "name": "stdout",
          "text": [
            "\n",
            "\n",
            "COVARIANCE MATRIX\n",
            "                  loanamount      totaldue  ...  longitude_gps  latitude_gps\n",
            "loanamount     1.153918e+08  1.274164e+08  ...    -110.676598    351.352890\n",
            "totaldue       1.274164e+08  1.423086e+08  ...    -166.802134    306.162404\n",
            "termdays       6.752983e+04  8.454043e+04  ...       0.289317     -0.298350\n",
            "longitude_gps -1.106766e+02 -1.668021e+02  ...      62.672963     -6.553162\n",
            "latitude_gps   3.513529e+02  3.061624e+02  ...      -6.553162     10.684782\n",
            "\n",
            "[5 rows x 5 columns]\n",
            "\n",
            "\n",
            "\n"
          ]
        },
        {
          "output_type": "display_data",
          "data": {
            "image/png": "[encoded data removed]",
            "text/plain": [
              "<Figure size 720x360 with 2 Axes>"
            ]
          },
          "metadata": {}
        }
      ]
    },
    {
      "cell_type": "markdown",
      "source": [
        "#**Encoding**"
      ],
      "metadata": {
        "id": "gJXSyqCQVmed"
      }
    },
    {
      "cell_type": "code",
      "source": [
        "# Encode categorical target variable \n",
        "good_bad_flag_mapping = {'Good': 1,\n",
        "                         'Bad' : 0}\n",
        "result['good_bad_flag'] = result['good_bad_flag'].map(good_bad_flag_mapping)\n",
        "print('Label-encoded good_bad_flag:\\n',result['good_bad_flag'],\"\\n\\n\")"
      ],
      "metadata": {
        "id": "JOV3qtiY07xw",
        "colab": {
          "base_uri": "https://localhost:8080/"
        },
        "outputId": "844374d6-5007-49a9-ff6b-44c13a886dc6"
      },
      "execution_count": null,
      "outputs": [
        {
          "output_type": "stream",
          "name": "stdout",
          "text": [
            "Label-encoded good_bad_flag:\n",
            " 0       1\n",
            "1       1\n",
            "2       1\n",
            "3       1\n",
            "4       1\n",
            "       ..\n",
            "3272    0\n",
            "3273    0\n",
            "3274    0\n",
            "3275    0\n",
            "3276    0\n",
            "Name: good_bad_flag, Length: 3277, dtype: int64 \n",
            "\n",
            "\n"
          ]
        }
      ]
    },
    {
      "cell_type": "code",
      "source": [
        "# Count good and bad \n",
        "result[\"good_bad_flag\"].value_counts().plot.bar()\n",
        "result[\"good_bad_flag\"].value_counts()"
      ],
      "metadata": {
        "id": "ccmT_ml_09Rc",
        "colab": {
          "base_uri": "https://localhost:8080/",
          "height": 313
        },
        "outputId": "1b660f7c-b345-423c-ad23-4204d1b08a8c"
      },
      "execution_count": null,
      "outputs": [
        {
          "output_type": "execute_result",
          "data": {
            "text/plain": [
              "1    2563\n",
              "0     714\n",
              "Name: good_bad_flag, dtype: int64"
            ]
          },
          "metadata": {},
          "execution_count": 20
        },
        {
          "output_type": "display_data",
          "data": {
            "image/png": "[encoded data removed]",
            "text/plain": [
              "<Figure size 432x288 with 1 Axes>"
            ]
          },
          "metadata": {}
        }
      ]
    },
    {
      "cell_type": "code",
      "source": [
        "# rename less frequent categories of bank_name_clients to 'Other'\n",
        "need = result['bank_name_clients'].value_counts().index[:2]\n",
        "result['bank_name_clients'] = np.where(result['bank_name_clients'].isin(need), result['bank_name_clients'], 'OTHER')\n",
        "\n",
        "valCount = result['bank_name_clients'].value_counts()\n",
        "print (valCount)"
      ],
      "metadata": {
        "id": "Wwea9IREjVfD",
        "colab": {
          "base_uri": "https://localhost:8080/"
        },
        "outputId": "e225ed0a-2502-4d98-95cd-888873c283ff"
      },
      "execution_count": null,
      "outputs": [
        {
          "output_type": "stream",
          "name": "stdout",
          "text": [
            "OTHER         1637\n",
            "GT Bank       1210\n",
            "First Bank     430\n",
            "Name: bank_name_clients, dtype: int64\n"
          ]
        }
      ]
    },
    {
      "cell_type": "code",
      "source": [
        "# Univariate Bar Charts\n",
        "\n",
        "plt.figure(figsize = (30,6))\n",
        "plt.subplot(1,2,1)\n",
        "sns.countplot(  x=\"bank_name_clients\", data=result,palette=\"light:m_r\",\n",
        "    edgecolor=\".3\")\n",
        "plt.show()"
      ],
      "metadata": {
        "id": "DLXAtVrTXUPl",
        "colab": {
          "base_uri": "https://localhost:8080/",
          "height": 389
        },
        "outputId": "bf2beeb0-5ef0-476f-d823-d6684f393a9d"
      },
      "execution_count": null,
      "outputs": [
        {
          "output_type": "display_data",
          "data": {
            "image/png": "[encoded data removed]",
            "text/plain": [
              "<Figure size 2160x432 with 1 Axes>"
            ]
          },
          "metadata": {}
        }
      ]
    },
    {
      "cell_type": "code",
      "source": [
        "# rename less frequent categories of employment_status_clients to 'Other'\n",
        "need = result['employment_status_clients'].value_counts().index[:3]\n",
        "result['employment_status_clients'] = np.where(result['employment_status_clients'].isin(need), result['employment_status_clients'], 'OTHER')\n",
        "\n",
        "valCount = result['employment_status_clients'].value_counts()\n",
        "print (valCount)"
      ],
      "metadata": {
        "id": "WfgA_xPeOapu",
        "colab": {
          "base_uri": "https://localhost:8080/"
        },
        "outputId": "c0628f3b-0cb2-46e2-a1ca-97903b536e89"
      },
      "execution_count": null,
      "outputs": [
        {
          "output_type": "stream",
          "name": "stdout",
          "text": [
            "Permanent        2348\n",
            "OTHER             541\n",
            "Self-Employed     277\n",
            "Student           111\n",
            "Name: employment_status_clients, dtype: int64\n"
          ]
        }
      ]
    },
    {
      "cell_type": "code",
      "source": [
        "# Univariate Bar Charts\n",
        "\n",
        "plt.figure(figsize = (30,6))\n",
        "plt.subplot(1,2,2)\n",
        "sns.countplot(  x=\"employment_status_clients\", data=result,palette=\"light:m_r\",\n",
        "    edgecolor=\".3\")\n",
        "plt.show()"
      ],
      "metadata": {
        "id": "FY09DpdBnRrw",
        "colab": {
          "base_uri": "https://localhost:8080/",
          "height": 389
        },
        "outputId": "504056cd-736c-4878-ae24-5ff07063e7a6"
      },
      "execution_count": null,
      "outputs": [
        {
          "output_type": "display_data",
          "data": {
            "image/png": "[encoded data removed]",
            "text/plain": [
              "<Figure size 2160x432 with 1 Axes>"
            ]
          },
          "metadata": {}
        }
      ]
    },
    {
      "cell_type": "code",
      "source": [
        "# Univariate Bar Charts\n",
        "\n",
        "plt.figure(figsize = (30,6))\n",
        "plt.subplot(1,2,2)\n",
        "sns.countplot(  x=\"level_of_education_clients\", data=result,palette=\"light:m_r\",\n",
        "    edgecolor=\".3\")\n",
        "plt.show()"
      ],
      "metadata": {
        "id": "ZJx8_gddbEe0",
        "colab": {
          "base_uri": "https://localhost:8080/",
          "height": 389
        },
        "outputId": "29e82cd3-c336-404f-c4c5-53c50b9d9b30"
      },
      "execution_count": null,
      "outputs": [
        {
          "output_type": "display_data",
          "data": {
            "image/png": "[encoded data removed]",
            "text/plain": [
              "<Figure size 2160x432 with 1 Axes>"
            ]
          },
          "metadata": {}
        }
      ]
    },
    {
      "cell_type": "code",
      "source": [
        "# Univariate Bar Charts\n",
        "\n",
        "plt.figure(figsize = (30,6))\n",
        "plt.subplot(1,2,2)\n",
        "sns.countplot(  x=\"bank_account_type\", data=result,palette=\"light:m_r\",\n",
        "    edgecolor=\".3\")\n",
        "plt.show()"
      ],
      "metadata": {
        "id": "1J-NOTzsYY8z",
        "colab": {
          "base_uri": "https://localhost:8080/",
          "height": 389
        },
        "outputId": "8ab9d5a1-e8f1-489e-b56b-967b263e04c2"
      },
      "execution_count": null,
      "outputs": [
        {
          "output_type": "display_data",
          "data": {
            "image/png": "[encoded data removed]",
            "text/plain": [
              "<Figure size 2160x432 with 1 Axes>"
            ]
          },
          "metadata": {}
        }
      ]
    },
    {
      "cell_type": "code",
      "source": [
        "# change birthday to age. New column age is created\n",
        "import pandas as pd\n",
        "from datetime import datetime, date\n",
        "\n",
        "  \n",
        "# This function converts given date to age\n",
        "def age(born):\n",
        "    born = datetime.strptime(born, '%Y-%m-%d %H:%M:%S.%f').date()\n",
        "    today = date.today()\n",
        "    return today.year - born.year - ((today.month, \n",
        "                                      today.day) < (born.month, \n",
        "                                                    born.day))\n",
        "  \n",
        "result['Age'] = result['birthdate'].apply(age)\n",
        "  \n",
        "display(result)"
      ],
      "metadata": {
        "id": "7khFFWhMhAMu",
        "colab": {
          "base_uri": "https://localhost:8080/",
          "height": 653
        },
        "outputId": "c6ee111d-048e-49ba-958e-177aef4cf719"
      },
      "execution_count": null,
      "outputs": [
        {
          "output_type": "display_data",
          "data": {
            "text/html": [
              "\n",
              "  <div id=\"df-24c02765-9384-4147-9a83-87da2613eb2c\">\n",
              "    <div class=\"colab-df-container\">\n",
              "      <div>\n",
              "<style scoped>\n",
              "    .dataframe tbody tr th:only-of-type {\n",
              "        vertical-align: middle;\n",
              "    }\n",
              "\n",
              "    .dataframe tbody tr th {\n",
              "        vertical-align: top;\n",
              "    }\n",
              "\n",
              "    .dataframe thead th {\n",
              "        text-align: right;\n",
              "    }\n",
              "</style>\n",
              "<table border=\"1\" class=\"dataframe\">\n",
              "  <thead>\n",
              "    <tr style=\"text-align: right;\">\n",
              "      <th></th>\n",
              "      <th>loanamount</th>\n",
              "      <th>totaldue</th>\n",
              "      <th>termdays</th>\n",
              "      <th>good_bad_flag</th>\n",
              "      <th>birthdate</th>\n",
              "      <th>bank_account_type</th>\n",
              "      <th>longitude_gps</th>\n",
              "      <th>latitude_gps</th>\n",
              "      <th>bank_name_clients</th>\n",
              "      <th>employment_status_clients</th>\n",
              "      <th>level_of_education_clients</th>\n",
              "      <th>Age</th>\n",
              "    </tr>\n",
              "  </thead>\n",
              "  <tbody>\n",
              "    <tr>\n",
              "      <th>0</th>\n",
              "      <td>30000.0</td>\n",
              "      <td>34500.0</td>\n",
              "      <td>30</td>\n",
              "      <td>1</td>\n",
              "      <td>1972-01-15 00:00:00.000000</td>\n",
              "      <td>Other</td>\n",
              "      <td>3.432010</td>\n",
              "      <td>6.433055</td>\n",
              "      <td>OTHER</td>\n",
              "      <td>Permanent</td>\n",
              "      <td>Post-Graduate</td>\n",
              "      <td>50</td>\n",
              "    </tr>\n",
              "    <tr>\n",
              "      <th>1</th>\n",
              "      <td>15000.0</td>\n",
              "      <td>17250.0</td>\n",
              "      <td>30</td>\n",
              "      <td>1</td>\n",
              "      <td>1985-08-23 00:00:00.000000</td>\n",
              "      <td>Savings</td>\n",
              "      <td>3.885298</td>\n",
              "      <td>7.320700</td>\n",
              "      <td>GT Bank</td>\n",
              "      <td>Permanent</td>\n",
              "      <td>Graduate</td>\n",
              "      <td>36</td>\n",
              "    </tr>\n",
              "    <tr>\n",
              "      <th>2</th>\n",
              "      <td>20000.0</td>\n",
              "      <td>22250.0</td>\n",
              "      <td>15</td>\n",
              "      <td>1</td>\n",
              "      <td>1984-09-18 00:00:00.000000</td>\n",
              "      <td>Other</td>\n",
              "      <td>11.139350</td>\n",
              "      <td>10.292041</td>\n",
              "      <td>OTHER</td>\n",
              "      <td>Permanent</td>\n",
              "      <td>NaN</td>\n",
              "      <td>37</td>\n",
              "    </tr>\n",
              "    <tr>\n",
              "      <th>3</th>\n",
              "      <td>10000.0</td>\n",
              "      <td>11500.0</td>\n",
              "      <td>15</td>\n",
              "      <td>1</td>\n",
              "      <td>1977-10-10 00:00:00.000000</td>\n",
              "      <td>Savings</td>\n",
              "      <td>3.985770</td>\n",
              "      <td>7.491708</td>\n",
              "      <td>First Bank</td>\n",
              "      <td>Permanent</td>\n",
              "      <td>NaN</td>\n",
              "      <td>44</td>\n",
              "    </tr>\n",
              "    <tr>\n",
              "      <th>4</th>\n",
              "      <td>40000.0</td>\n",
              "      <td>44000.0</td>\n",
              "      <td>30</td>\n",
              "      <td>1</td>\n",
              "      <td>1986-09-07 00:00:00.000000</td>\n",
              "      <td>Other</td>\n",
              "      <td>7.457913</td>\n",
              "      <td>9.076574</td>\n",
              "      <td>GT Bank</td>\n",
              "      <td>Permanent</td>\n",
              "      <td>Primary</td>\n",
              "      <td>35</td>\n",
              "    </tr>\n",
              "    <tr>\n",
              "      <th>...</th>\n",
              "      <td>...</td>\n",
              "      <td>...</td>\n",
              "      <td>...</td>\n",
              "      <td>...</td>\n",
              "      <td>...</td>\n",
              "      <td>...</td>\n",
              "      <td>...</td>\n",
              "      <td>...</td>\n",
              "      <td>...</td>\n",
              "      <td>...</td>\n",
              "      <td>...</td>\n",
              "      <td>...</td>\n",
              "    </tr>\n",
              "    <tr>\n",
              "      <th>3272</th>\n",
              "      <td>10000.0</td>\n",
              "      <td>11500.0</td>\n",
              "      <td>15</td>\n",
              "      <td>0</td>\n",
              "      <td>1979-03-22 00:00:00.000000</td>\n",
              "      <td>Savings</td>\n",
              "      <td>3.302387</td>\n",
              "      <td>6.568690</td>\n",
              "      <td>GT Bank</td>\n",
              "      <td>OTHER</td>\n",
              "      <td>NaN</td>\n",
              "      <td>42</td>\n",
              "    </tr>\n",
              "    <tr>\n",
              "      <th>3273</th>\n",
              "      <td>10000.0</td>\n",
              "      <td>13000.0</td>\n",
              "      <td>30</td>\n",
              "      <td>0</td>\n",
              "      <td>1989-12-04 00:00:00.000000</td>\n",
              "      <td>Savings</td>\n",
              "      <td>4.607358</td>\n",
              "      <td>8.460608</td>\n",
              "      <td>OTHER</td>\n",
              "      <td>Permanent</td>\n",
              "      <td>NaN</td>\n",
              "      <td>32</td>\n",
              "    </tr>\n",
              "    <tr>\n",
              "      <th>3274</th>\n",
              "      <td>10000.0</td>\n",
              "      <td>11500.0</td>\n",
              "      <td>15</td>\n",
              "      <td>0</td>\n",
              "      <td>1989-11-21 00:00:00.000000</td>\n",
              "      <td>Savings</td>\n",
              "      <td>3.976842</td>\n",
              "      <td>7.409129</td>\n",
              "      <td>First Bank</td>\n",
              "      <td>Permanent</td>\n",
              "      <td>NaN</td>\n",
              "      <td>32</td>\n",
              "    </tr>\n",
              "    <tr>\n",
              "      <th>3275</th>\n",
              "      <td>10000.0</td>\n",
              "      <td>13000.0</td>\n",
              "      <td>30</td>\n",
              "      <td>0</td>\n",
              "      <td>1990-06-11 00:00:00.000000</td>\n",
              "      <td>Savings</td>\n",
              "      <td>3.986089</td>\n",
              "      <td>7.386796</td>\n",
              "      <td>OTHER</td>\n",
              "      <td>Permanent</td>\n",
              "      <td>NaN</td>\n",
              "      <td>31</td>\n",
              "    </tr>\n",
              "    <tr>\n",
              "      <th>3276</th>\n",
              "      <td>30000.0</td>\n",
              "      <td>34500.0</td>\n",
              "      <td>30</td>\n",
              "      <td>0</td>\n",
              "      <td>1988-08-16 00:00:00.000000</td>\n",
              "      <td>Savings</td>\n",
              "      <td>3.725655</td>\n",
              "      <td>6.474430</td>\n",
              "      <td>GT Bank</td>\n",
              "      <td>OTHER</td>\n",
              "      <td>NaN</td>\n",
              "      <td>33</td>\n",
              "    </tr>\n",
              "  </tbody>\n",
              "</table>\n",
              "<p>3277 rows × 12 columns</p>\n",
              "</div>\n",
              "      <button class=\"colab-df-convert\" onclick=\"convertToInteractive('df-24c02765-9384-4147-9a83-87da2613eb2c')\"\n",
              "              title=\"Convert this dataframe to an interactive table.\"\n",
              "              style=\"display:none;\">\n",
              "        \n",
              "  <svg xmlns=\"http://www.w3.org/2000/svg\" height=\"24px\"viewBox=\"0 0 24 24\"\n",
              "       width=\"24px\">\n",
              "    <path d=\"M0 0h24v24H0V0z\" fill=\"none\"/>\n",
              "    <path d=\"M18.56 5.44l.94 2.06.94-2.06 2.06-.94-2.06-.94-.94-2.06-.94 2.06-2.06.94zm-11 1L8.5 8.5l.94-2.06 2.06-.94-2.06-.94L8.5 2.5l-.94 2.06-2.06.94zm10 10l.94 2.06.94-2.06 2.06-.94-2.06-.94-.94-2.06-.94 2.06-2.06.94z\"/><path d=\"M17.41 7.96l-1.37-1.37c-.4-.4-.92-.59-1.43-.59-.52 0-1.04.2-1.43.59L10.3 9.45l-7.72 7.72c-.78.78-.78 2.05 0 2.83L4 21.41c.39.39.9.59 1.41.59.51 0 1.02-.2 1.41-.59l7.78-7.78 2.81-2.81c.8-.78.8-2.07 0-2.86zM5.41 20L4 18.59l7.72-7.72 1.47 1.35L5.41 20z\"/>\n",
              "  </svg>\n",
              "      </button>\n",
              "      \n",
              "  <style>\n",
              "    .colab-df-container {\n",
              "      display:flex;\n",
              "      flex-wrap:wrap;\n",
              "      gap: 12px;\n",
              "    }\n",
              "\n",
              "    .colab-df-convert {\n",
              "      background-color: #E8F0FE;\n",
              "      border: none;\n",
              "      border-radius: 50%;\n",
              "      cursor: pointer;\n",
              "      display: none;\n",
              "      fill: #1967D2;\n",
              "      height: 32px;\n",
              "      padding: 0 0 0 0;\n",
              "      width: 32px;\n",
              "    }\n",
              "\n",
              "    .colab-df-convert:hover {\n",
              "      background-color: #E2EBFA;\n",
              "      box-shadow: 0px 1px 2px rgba(60, 64, 67, 0.3), 0px 1px 3px 1px rgba(60, 64, 67, 0.15);\n",
              "      fill: #174EA6;\n",
              "    }\n",
              "\n",
              "    [theme=dark] .colab-df-convert {\n",
              "      background-color: #3B4455;\n",
              "      fill: #D2E3FC;\n",
              "    }\n",
              "\n",
              "    [theme=dark] .colab-df-convert:hover {\n",
              "      background-color: #434B5C;\n",
              "      box-shadow: 0px 1px 3px 1px rgba(0, 0, 0, 0.15);\n",
              "      filter: drop-shadow(0px 1px 2px rgba(0, 0, 0, 0.3));\n",
              "      fill: #FFFFFF;\n",
              "    }\n",
              "  </style>\n",
              "\n",
              "      <script>\n",
              "        const buttonEl =\n",
              "          document.querySelector('#df-24c02765-9384-4147-9a83-87da2613eb2c button.colab-df-convert');\n",
              "        buttonEl.style.display =\n",
              "          google.colab.kernel.accessAllowed ? 'block' : 'none';\n",
              "\n",
              "        async function convertToInteractive(key) {\n",
              "          const element = document.querySelector('#df-24c02765-9384-4147-9a83-87da2613eb2c');\n",
              "          const dataTable =\n",
              "            await google.colab.kernel.invokeFunction('convertToInteractive',\n",
              "                                                     [key], {});\n",
              "          if (!dataTable) return;\n",
              "\n",
              "          const docLinkHtml = 'Like what you see? Visit the ' +\n",
              "            '<a target=\"_blank\" href=https://colab.research.google.com/notebooks/data_table.ipynb>data table notebook</a>'\n",
              "            + ' to learn more about interactive tables.';\n",
              "          element.innerHTML = '';\n",
              "          dataTable['output_type'] = 'display_data';\n",
              "          await google.colab.output.renderOutput(dataTable, element);\n",
              "          const docLink = document.createElement('div');\n",
              "          docLink.innerHTML = docLinkHtml;\n",
              "          element.appendChild(docLink);\n",
              "        }\n",
              "      </script>\n",
              "    </div>\n",
              "  </div>\n",
              "  "
            ],
            "text/plain": [
              "      loanamount  totaldue  ...  level_of_education_clients  Age\n",
              "0        30000.0   34500.0  ...               Post-Graduate   50\n",
              "1        15000.0   17250.0  ...                    Graduate   36\n",
              "2        20000.0   22250.0  ...                         NaN   37\n",
              "3        10000.0   11500.0  ...                         NaN   44\n",
              "4        40000.0   44000.0  ...                     Primary   35\n",
              "...          ...       ...  ...                         ...  ...\n",
              "3272     10000.0   11500.0  ...                         NaN   42\n",
              "3273     10000.0   13000.0  ...                         NaN   32\n",
              "3274     10000.0   11500.0  ...                         NaN   32\n",
              "3275     10000.0   13000.0  ...                         NaN   31\n",
              "3276     30000.0   34500.0  ...                         NaN   33\n",
              "\n",
              "[3277 rows x 12 columns]"
            ]
          },
          "metadata": {}
        }
      ]
    },
    {
      "cell_type": "code",
      "source": [
        "# drop birthday\n",
        "result = result.drop(columns=['birthdate'])"
      ],
      "metadata": {
        "id": "hAq6fXzjj_2L"
      },
      "execution_count": null,
      "outputs": []
    },
    {
      "cell_type": "code",
      "source": [
        "# k-means clustering to cluster longitude and latitude \n",
        "# define the model\n",
        "from sklearn.cluster import KMeans\n",
        "model = KMeans(n_clusters=5)\n",
        "# fit the model\n",
        "model.fit(result[['longitude_gps','latitude_gps']])\n",
        "# assign a cluster to each example\n",
        "yhat = pd.DataFrame(model.predict(result[['longitude_gps','latitude_gps']]),columns=['Location_Cluster'])\n",
        "if 'Location_Cluster' not in result:\n",
        "  result = pd.concat([result.set_index(yhat.index),yhat],axis=1)\n",
        "else:\n",
        "  result['Location_Cluster'] = yhat\n",
        "colors = ['#747FE3', '#8EE35D', '#E37346']\n",
        "sns.set_palette(sns.color_palette(colors))\n",
        "sns.scatterplot(x='longitude_gps', y='latitude_gps', data=result, hue='Location_Cluster', palette = \"brg\")\n"
      ],
      "metadata": {
        "id": "N1NMzI2TrkMn",
        "colab": {
          "base_uri": "https://localhost:8080/",
          "height": 297
        },
        "outputId": "858638e5-2750-412b-a73b-99176642c890"
      },
      "execution_count": null,
      "outputs": [
        {
          "output_type": "execute_result",
          "data": {
            "text/plain": [
              "<matplotlib.axes._subplots.AxesSubplot at 0x7f32bcfab410>"
            ]
          },
          "metadata": {},
          "execution_count": 29
        },
        {
          "output_type": "display_data",
          "data": {
            "image/png": "[encoded data removed]",
            "text/plain": [
              "<Figure size 432x288 with 1 Axes>"
            ]
          },
          "metadata": {}
        }
      ]
    },
    {
      "cell_type": "code",
      "source": [
        "# create dummy variables for categorical variables \n",
        "result = pd.get_dummies(data=result, columns=['bank_name_clients','employment_status_clients','bank_account_type','level_of_education_clients'])"
      ],
      "metadata": {
        "id": "y9Cslpa9SdmS"
      },
      "execution_count": null,
      "outputs": []
    },
    {
      "cell_type": "code",
      "source": [
        "# drop latitude & longitude\n",
        "result = result.drop(columns=['longitude_gps','latitude_gps'])"
      ],
      "metadata": {
        "id": "3c792NHUkkGG"
      },
      "execution_count": null,
      "outputs": []
    },
    {
      "cell_type": "code",
      "source": [
        "# Review columns in dataframe\n",
        "result.columns"
      ],
      "metadata": {
        "colab": {
          "base_uri": "https://localhost:8080/"
        },
        "id": "bJ-7dYRdkvij",
        "outputId": "b4ec057c-e889-4fc2-bb1a-8fd6761ef673"
      },
      "execution_count": null,
      "outputs": [
        {
          "output_type": "execute_result",
          "data": {
            "text/plain": [
              "Index(['loanamount', 'totaldue', 'termdays', 'good_bad_flag', 'Age',\n",
              "       'Location_Cluster', 'bank_name_clients_First Bank',\n",
              "       'bank_name_clients_GT Bank', 'bank_name_clients_OTHER',\n",
              "       'employment_status_clients_OTHER',\n",
              "       'employment_status_clients_Permanent',\n",
              "       'employment_status_clients_Self-Employed',\n",
              "       'employment_status_clients_Student', 'bank_account_type_Current',\n",
              "       'bank_account_type_Other', 'bank_account_type_Savings',\n",
              "       'level_of_education_clients_Graduate',\n",
              "       'level_of_education_clients_Post-Graduate',\n",
              "       'level_of_education_clients_Primary',\n",
              "       'level_of_education_clients_Secondary'],\n",
              "      dtype='object')"
            ]
          },
          "metadata": {},
          "execution_count": 32
        }
      ]
    },
    {
      "cell_type": "markdown",
      "source": [
        "#**Visualizations**\n",
        "\n"
      ],
      "metadata": {
        "id": "aX913-KdV1eg"
      }
    },
    {
      "cell_type": "code",
      "source": [
        "# Violinplots for quant variables\n",
        "result[\"All\"] = \"\"\n",
        "for i in result.columns:\n",
        "  if (result.dtypes[i] == 'int64' or result.dtypes[i] == 'float64') and ((i != 'All') and (i != 'good_bad_flag')):\n",
        "    plt.figure(figsize = (10,5))\n",
        "    sns.violinplot(x = 'All',y = i, hue = \"good_bad_flag\", data = result,palette = {True:'blue', False:'red'})\n",
        "    plt.show()\n",
        "result.drop('All',axis=1)\n",
        "\n",
        "result = result.drop(columns=['All'])"
      ],
      "metadata": {
        "id": "B3J7luyAGafC",
        "colab": {
          "base_uri": "https://localhost:8080/",
          "height": 1000
        },
        "outputId": "e2f8480a-cf5e-4dba-d6eb-7cee48a4520f"
      },
      "execution_count": null,
      "outputs": [
        {
          "output_type": "display_data",
          "data": {
            "image/png": "[encoded data removed]",
            "text/plain": [
              "<Figure size 720x360 with 1 Axes>"
            ]
          },
          "metadata": {}
        },
        {
          "output_type": "display_data",
          "data": {
            "image/png": "[encoded data removed]",
            "text/plain": [
              "<Figure size 720x360 with 1 Axes>"
            ]
          },
          "metadata": {}
        },
        {
          "output_type": "display_data",
          "data": {
            "image/png": "[encoded data removed]",
            "text/plain": [
              "<Figure size 720x360 with 1 Axes>"
            ]
          },
          "metadata": {}
        },
        {
          "output_type": "display_data",
          "data": {
            "image/png": "[encoded data removed]",
            "text/plain": [
              "<Figure size 720x360 with 1 Axes>"
            ]
          },
          "metadata": {}
        }
      ]
    },
    {
      "cell_type": "code",
      "source": [
        "# Bivariate violinplots\n",
        "plt.figure(figsize = (10,5))\n",
        "sns.violinplot(x =\"termdays\", y =\"totaldue\", hue =\"good_bad_flag\",data = result, split = True)\n",
        "plt.show()\n",
        "plt.figure(figsize = (10,5))\n",
        "sns.violinplot(x =\"loanamount\", y =\"totaldue\", hue =\"good_bad_flag\",data = result, split = True)\n",
        "plt.show()"
      ],
      "metadata": {
        "id": "36iOcC4pX7e4",
        "colab": {
          "base_uri": "https://localhost:8080/",
          "height": 651
        },
        "outputId": "676d23f9-18f3-45fa-9733-4049a1f9f4e4"
      },
      "execution_count": null,
      "outputs": [
        {
          "output_type": "display_data",
          "data": {
            "image/png": "[encoded data removed]",
            "text/plain": [
              "<Figure size 720x360 with 1 Axes>"
            ]
          },
          "metadata": {}
        },
        {
          "output_type": "display_data",
          "data": {
            "image/png": "[encoded data removed]",
            "text/plain": [
              "<Figure size 720x360 with 1 Axes>"
            ]
          },
          "metadata": {}
        }
      ]
    },
    {
      "cell_type": "markdown",
      "source": [
        "# **Missing values & duplicates**"
      ],
      "metadata": {
        "id": "Hm_LvHRzDrAl"
      }
    },
    {
      "cell_type": "code",
      "source": [
        "# Count total NaN at each column in a DataFrame\n",
        "print(\" \\nCount total NaN at each column in a DataFrame : \\n\\n\",\n",
        "      result.isnull().sum())"
      ],
      "metadata": {
        "id": "oMhvDmxag13V",
        "colab": {
          "base_uri": "https://localhost:8080/"
        },
        "outputId": "d8be7ca7-5ce2-4723-d205-8f632e1e265f"
      },
      "execution_count": null,
      "outputs": [
        {
          "output_type": "stream",
          "name": "stdout",
          "text": [
            " \n",
            "Count total NaN at each column in a DataFrame : \n",
            "\n",
            " loanamount                                  0\n",
            "totaldue                                    0\n",
            "termdays                                    0\n",
            "good_bad_flag                               0\n",
            "Age                                         0\n",
            "Location_Cluster                            0\n",
            "bank_name_clients_First Bank                0\n",
            "bank_name_clients_GT Bank                   0\n",
            "bank_name_clients_OTHER                     0\n",
            "employment_status_clients_OTHER             0\n",
            "employment_status_clients_Permanent         0\n",
            "employment_status_clients_Self-Employed     0\n",
            "employment_status_clients_Student           0\n",
            "bank_account_type_Current                   0\n",
            "bank_account_type_Other                     0\n",
            "bank_account_type_Savings                   0\n",
            "level_of_education_clients_Graduate         0\n",
            "level_of_education_clients_Post-Graduate    0\n",
            "level_of_education_clients_Primary          0\n",
            "level_of_education_clients_Secondary        0\n",
            "dtype: int64\n"
          ]
        }
      ]
    },
    {
      "cell_type": "code",
      "source": [
        "result.isnull().any()"
      ],
      "metadata": {
        "id": "9O6MDmKmyL9C",
        "colab": {
          "base_uri": "https://localhost:8080/"
        },
        "outputId": "709f4985-4ff1-4253-9099-775130f85a3a"
      },
      "execution_count": null,
      "outputs": [
        {
          "output_type": "execute_result",
          "data": {
            "text/plain": [
              "loanamount                                  False\n",
              "totaldue                                    False\n",
              "termdays                                    False\n",
              "good_bad_flag                               False\n",
              "Age                                         False\n",
              "Location_Cluster                            False\n",
              "bank_name_clients_First Bank                False\n",
              "bank_name_clients_GT Bank                   False\n",
              "bank_name_clients_OTHER                     False\n",
              "employment_status_clients_OTHER             False\n",
              "employment_status_clients_Permanent         False\n",
              "employment_status_clients_Self-Employed     False\n",
              "employment_status_clients_Student           False\n",
              "bank_account_type_Current                   False\n",
              "bank_account_type_Other                     False\n",
              "bank_account_type_Savings                   False\n",
              "level_of_education_clients_Graduate         False\n",
              "level_of_education_clients_Post-Graduate    False\n",
              "level_of_education_clients_Primary          False\n",
              "level_of_education_clients_Secondary        False\n",
              "dtype: bool"
            ]
          },
          "metadata": {},
          "execution_count": 36
        }
      ]
    },
    {
      "cell_type": "code",
      "source": [
        "# Check for duplicates and remove if there is any \n",
        "result.drop_duplicates(inplace = True)\n",
        "print('\\n Duplicates\\n',result.duplicated().sum())"
      ],
      "metadata": {
        "id": "ZrzBq94hRQeb",
        "colab": {
          "base_uri": "https://localhost:8080/"
        },
        "outputId": "8a378643-a97a-4050-c476-1ff3019162cd"
      },
      "execution_count": null,
      "outputs": [
        {
          "output_type": "stream",
          "name": "stdout",
          "text": [
            "\n",
            " Duplicates\n",
            " 0\n"
          ]
        }
      ]
    },
    {
      "cell_type": "markdown",
      "source": [
        "#**Pre-processing - Skewness correction**\n",
        "\n"
      ],
      "metadata": {
        "id": "ROLO0P-ZLycC"
      }
    },
    {
      "cell_type": "code",
      "source": [
        "# pick numerical variables and set them as X\n",
        "X = result[['loanamount','totaldue','termdays','Age']]"
      ],
      "metadata": {
        "id": "5m-XXhx8dJFa"
      },
      "execution_count": null,
      "outputs": []
    },
    {
      "cell_type": "code",
      "source": [
        "# Code for skewness correction (see source below)\n",
        "# Depending upon the characteritics of a feature (column), a log, Box-Cox or power transform is applied to normalize the distribution \n",
        "\n",
        "# -*- coding: utf-8 -*-\n",
        "\"\"\"\n",
        "Created on Sat Feb 23 14:42:46 2019\n",
        "@author: DATAmadness\n",
        "\"\"\"\n",
        "\n",
        "##################################################\n",
        "# A function that will accept a pandas dataframe\n",
        "# and auto-transforms columns that exceeds threshold value\n",
        "#  -  Offers choice between boxcox or log / exponential transformation\n",
        "#  -  Automatically handles negative values\n",
        "#  -  Auto recognizes positive /negative skewness\n",
        "\n",
        "# Further documentation available here:\n",
        "# https://datamadness.github.io/Skewness_Auto_Transform\n",
        "\n",
        "def skew_autotransform(DF, include = None, exclude = None, plot = False, threshold = 1, exp = False):\n",
        "    \n",
        "    #Get list of column names that should be processed based on input parameters\n",
        "    if include is None and exclude is None:\n",
        "        colnames = DF.columns.values\n",
        "    elif include is not None:\n",
        "        colnames = include\n",
        "    elif exclude is not None:\n",
        "        colnames = [item for item in list(DF.columns.values) if item not in exclude]\n",
        "    else:\n",
        "        print('No columns to process!')\n",
        "    \n",
        "    #Helper function that checks if all values are positive\n",
        "    def make_positive(series):\n",
        "        minimum = np.amin(series)\n",
        "        #If minimum is negative, offset all values by a constant to move all values to positive teritory\n",
        "        if minimum <= 0:\n",
        "            series = series + abs(minimum) + 0.01\n",
        "        return series\n",
        "    \n",
        "    \n",
        "    #Go through desired columns in DataFrame\n",
        "    for col in colnames:\n",
        "        #Get column skewness\n",
        "        skew = DF[col].skew()\n",
        "        transformed = True\n",
        "        \n",
        "        if plot:\n",
        "            #Prep the plot of original data\n",
        "            sns.set_style(\"darkgrid\")\n",
        "            sns.set_palette(\"Blues_r\")\n",
        "            fig, axes = plt.subplots(1, 2, figsize=(10, 5))\n",
        "            #ax1 = sns.distplot(DF[col], ax=axes[0])\n",
        "            ax1 = sns.histplot(DF[col], ax=axes[0], color=\"blue\", label=\"100% Equities\", kde=True, stat=\"density\", linewidth=0)\n",
        "            ax1.set(xlabel='Original ' + str(col))\n",
        "        \n",
        "        #If skewness is larger than threshold and positively skewed; If yes, apply appropriate transformation\n",
        "        if abs(skew) > threshold and skew > 0:\n",
        "            skewType = 'positive'\n",
        "            #Make sure all values are positive\n",
        "            DF[col] = make_positive(DF[col])\n",
        "            \n",
        "            if exp:\n",
        "               #Apply log transformation \n",
        "               DF[col] = DF[col].apply(math.log)\n",
        "            else:\n",
        "                #Apply boxcox transformation\n",
        "                DF[col] = ss.boxcox(DF[col])[0]\n",
        "            skew_new = DF[col].skew()\n",
        "         \n",
        "        elif abs(skew) > threshold and skew < 0:\n",
        "            skewType = 'negative'\n",
        "            #Make sure all values are positive\n",
        "            DF[col] = make_positive(DF[col])\n",
        "            \n",
        "            if exp:\n",
        "               #Apply exp transformation \n",
        "               DF[col] = DF[col].pow(10)\n",
        "            else:\n",
        "                #Apply boxcox transformation\n",
        "                DF[col] = ss.boxcox(DF[col])[0]\n",
        "            skew_new = DF[col].skew()\n",
        "        \n",
        "        else:\n",
        "            #Flag if no transformation was performed\n",
        "            transformed = False\n",
        "            skew_new = skew\n",
        "        \n",
        "        #Compare before and after if plot is True\n",
        "        if plot:\n",
        "            print('\\n ------------------------------------------------------')     \n",
        "            if transformed:\n",
        "                print('\\n %r had %r skewness of %2.2f' %(col, skewType, skew))\n",
        "                print('\\n Transformation yielded skewness of %2.2f' %(skew_new))\n",
        "                sns.set_palette(\"Paired\")\n",
        "                #ax2 = sns.distplot(DF[col], ax=axes[1], color = 'r')\n",
        "                ax2 = sns.histplot(DF[col], ax=axes[1], color=\"red\", label=\"100% Equities\", kde=True, stat=\"density\", linewidth=0)\n",
        "                ax2.set(xlabel='Transformed ' + str(col))\n",
        "                plt.show()\n",
        "            else:\n",
        "                print('\\n NO TRANSFORMATION APPLIED FOR %r . Skewness = %2.2f' %(col, skew))\n",
        "                #ax2 = sns.distplot(DF[col], ax=axes[1])\n",
        "                ax2 = sns.histplot(DF[col], ax=axes[1], color=\"blue\", label=\"100% Equities\", kde=True, stat=\"density\", linewidth=0)\n",
        "                ax2.set(xlabel='NO TRANSFORM ' + str(col))\n",
        "                plt.show()\n",
        "                \n",
        "\n",
        "    return DF"
      ],
      "metadata": {
        "id": "b_criW9kLBcW"
      },
      "execution_count": null,
      "outputs": []
    },
    {
      "cell_type": "code",
      "source": [
        "# Use code above (adapted from https://github.com/datamadness/Automatic-skewness-transformation-for-Pandas-DataFrame) to correct skewness\n",
        "# All the predictors are real-valued, so we can push them all through the skewness check/correction.\n",
        "X = skew_autotransform(X.copy(deep=True), plot = True, exp = False, threshold = 1)"
      ],
      "metadata": {
        "id": "Y7SKSkv7dPFP",
        "colab": {
          "base_uri": "https://localhost:8080/",
          "height": 1000
        },
        "outputId": "175b4b7e-40e7-4cc3-b59d-22b09a4ea324"
      },
      "execution_count": null,
      "outputs": [
        {
          "output_type": "stream",
          "name": "stdout",
          "text": [
            "\n",
            " ------------------------------------------------------\n",
            "\n",
            " NO TRANSFORMATION APPLIED FOR 'loanamount' . Skewness = 0.80\n"
          ]
        },
        {
          "output_type": "display_data",
          "data": {
            "image/png": "[encoded data removed]",
            "text/plain": [
              "<Figure size 720x360 with 2 Axes>"
            ]
          },
          "metadata": {}
        },
        {
          "output_type": "stream",
          "name": "stdout",
          "text": [
            "\n",
            " ------------------------------------------------------\n",
            "\n",
            " NO TRANSFORMATION APPLIED FOR 'totaldue' . Skewness = 0.71\n"
          ]
        },
        {
          "output_type": "display_data",
          "data": {
            "image/png": "[encoded data removed]",
            "text/plain": [
              "<Figure size 720x360 with 2 Axes>"
            ]
          },
          "metadata": {}
        },
        {
          "output_type": "stream",
          "name": "stdout",
          "text": [
            "\n",
            " ------------------------------------------------------\n",
            "\n",
            " 'termdays' had 'positive' skewness of 1.69\n",
            "\n",
            " Transformation yielded skewness of -0.00\n"
          ]
        },
        {
          "output_type": "display_data",
          "data": {
            "image/png": "[encoded data removed]",
            "text/plain": [
              "<Figure size 720x360 with 2 Axes>"
            ]
          },
          "metadata": {}
        },
        {
          "output_type": "stream",
          "name": "stdout",
          "text": [
            "\n",
            " ------------------------------------------------------\n",
            "\n",
            " NO TRANSFORMATION APPLIED FOR 'Age' . Skewness = 0.63\n"
          ]
        },
        {
          "output_type": "display_data",
          "data": {
            "image/png": "[encoded data removed]",
            "text/plain": [
              "<Figure size 720x360 with 2 Axes>"
            ]
          },
          "metadata": {}
        }
      ]
    },
    {
      "cell_type": "markdown",
      "source": [
        "#**Pre-processing - Outliers**"
      ],
      "metadata": {
        "id": "lUoSHeL3LvVM"
      }
    },
    {
      "cell_type": "code",
      "source": [
        "# Tukey Rule outliers\n",
        "# As an alternative, you could use z-scores greater than 3 or less than -3.\n",
        "\n",
        "cols = X.columns\n",
        "#Tukey's method\n",
        "def tukey_rule(data, col):\n",
        "    Q1 = data[col].quantile(0.25)\n",
        "    Q3 = data[col].quantile(0.75)\n",
        "    IQR = Q3 - Q1\n",
        "    upper_lim = data[col].quantile(0.5) + 2 * IQR\n",
        "    lower_lim = data[col].quantile(0.5) - 2 * IQR\n",
        "    outliers = []\n",
        "    for index, x in enumerate(data[col]):\n",
        "        if x < lower_lim or x >= upper_lim:\n",
        "            outliers.append(index)\n",
        "    return outliers\n",
        "\n",
        "# Identify outliers\n",
        "for i in cols:\n",
        "  outliers_Tukey = tukey_rule(X,i)\n",
        "  print(\"Column \",i,\": \",outliers_Tukey)\n",
        "  \n",
        "# Windsorize X and check the results\n",
        "print(\"Before\", X.describe())\n",
        "X_winsorized = X.copy(deep=True)\n",
        "for i in cols:\n",
        "  X_winsorized[i] = winsorize(X[i], limits=(0.05, 0.05))\n",
        "print(\"After\", X_winsorized.describe())"
      ],
      "metadata": {
        "id": "TFz51RnddQdE",
        "colab": {
          "base_uri": "https://localhost:8080/"
        },
        "outputId": "662e115e-e1d4-4436-c41c-4df11d85a433"
      },
      "execution_count": null,
      "outputs": [
        {
          "output_type": "stream",
          "name": "stdout",
          "text": [
            "Column  loanamount :  [709, 959, 984, 1393, 1496, 1802]\n",
            "Column  totaldue :  [709, 959, 984, 1393, 1802]\n",
            "Column  termdays :  [0, 1, 2, 3, 4, 5, 6, 7, 8, 9, 10, 11, 12, 13, 14, 15, 16, 17, 18, 19, 20, 21, 22, 23, 24, 25, 26, 27, 28, 29, 30, 31, 32, 33, 34, 35, 36, 37, 38, 39, 40, 41, 42, 43, 44, 45, 46, 47, 48, 49, 50, 51, 52, 53, 54, 55, 56, 57, 58, 59, 60, 61, 62, 63, 64, 65, 66, 67, 68, 69, 70, 71, 72, 73, 74, 75, 76, 77, 78, 79, 80, 81, 82, 83, 84, 85, 86, 87, 88, 89, 90, 91, 92, 93, 94, 95, 96, 97, 98, 99, 100, 101, 102, 103, 104, 105, 106, 107, 108, 109, 110, 111, 112, 113, 114, 115, 116, 117, 118, 119, 120, 121, 122, 123, 124, 125, 126, 127, 128, 129, 130, 131, 132, 133, 134, 135, 136, 137, 138, 139, 140, 141, 142, 143, 144, 145, 146, 147, 148, 149, 150, 151, 152, 153, 154, 155, 156, 157, 158, 159, 160, 161, 162, 163, 164, 165, 166, 167, 168, 169, 170, 171, 172, 173, 174, 175, 176, 177, 178, 179, 180, 181, 182, 183, 184, 185, 186, 187, 188, 189, 190, 191, 192, 193, 194, 195, 196, 197, 198, 199, 200, 201, 202, 203, 204, 205, 206, 207, 208, 209, 210, 211, 212, 213, 214, 215, 216, 217, 218, 219, 220, 221, 222, 223, 224, 225, 226, 227, 228, 229, 230, 231, 232, 233, 234, 235, 236, 237, 238, 239, 240, 241, 242, 243, 244, 245, 246, 247, 248, 249, 250, 251, 252, 253, 254, 255, 256, 257, 258, 259, 260, 261, 262, 263, 264, 265, 266, 267, 268, 269, 270, 271, 272, 273, 274, 275, 276, 277, 278, 279, 280, 281, 282, 283, 284, 285, 286, 287, 288, 289, 290, 291, 292, 293, 294, 295, 296, 297, 298, 299, 300, 301, 302, 303, 304, 305, 306, 307, 308, 309, 310, 311, 312, 313, 314, 315, 316, 317, 318, 319, 320, 321, 322, 323, 324, 325, 326, 327, 328, 329, 330, 331, 332, 333, 334, 335, 336, 337, 338, 339, 340, 341, 342, 343, 344, 345, 346, 347, 348, 349, 350, 351, 352, 353, 354, 355, 356, 357, 358, 359, 360, 361, 362, 363, 364, 365, 366, 367, 368, 369, 370, 371, 372, 373, 374, 375, 376, 377, 378, 379, 380, 381, 382, 383, 384, 385, 386, 387, 388, 389, 390, 391, 392, 393, 394, 395, 396, 397, 398, 399, 400, 401, 402, 403, 404, 405, 406, 407, 408, 409, 410, 411, 412, 413, 414, 415, 416, 417, 418, 419, 420, 421, 422, 423, 424, 425, 426, 427, 428, 429, 430, 431, 432, 433, 434, 435, 436, 437, 438, 439, 440, 441, 442, 443, 444, 445, 446, 447, 448, 449, 450, 451, 452, 453, 454, 455, 456, 457, 458, 459, 460, 461, 462, 463, 464, 465, 466, 467, 468, 469, 470, 471, 472, 473, 474, 475, 476, 477, 478, 479, 480, 481, 482, 483, 484, 485, 486, 487, 488, 489, 490, 491, 492, 493, 494, 495, 496, 497, 498, 499, 500, 501, 502, 503, 504, 505, 506, 507, 508, 509, 510, 511, 512, 513, 514, 515, 516, 517, 518, 519, 520, 521, 522, 523, 524, 525, 526, 527, 528, 529, 530, 531, 532, 533, 534, 535, 536, 537, 538, 539, 540, 541, 542, 543, 544, 545, 546, 547, 548, 549, 550, 551, 552, 553, 554, 555, 556, 557, 558, 559, 560, 561, 562, 563, 564, 565, 566, 567, 568, 569, 570, 571, 572, 573, 574, 575, 576, 577, 578, 579, 580, 581, 582, 583, 584, 585, 586, 587, 588, 589, 590, 591, 592, 593, 594, 595, 596, 597, 598, 599, 600, 601, 602, 603, 604, 605, 606, 607, 608, 609, 610, 611, 612, 613, 614, 615, 616, 617, 618, 619, 620, 621, 622, 623, 624, 625, 626, 627, 628, 629, 630, 631, 632, 633, 634, 635, 636, 637, 638, 639, 640, 641, 642, 643, 644, 645, 646, 647, 648, 649, 650, 651, 652, 653, 654, 655, 656, 657, 658, 659, 660, 661, 662, 663, 664, 665, 666, 667, 668, 669, 670, 671, 672, 673, 674, 675, 676, 677, 678, 679, 680, 681, 682, 683, 684, 685, 686, 687, 688, 689, 690, 691, 692, 693, 694, 695, 696, 697, 698, 699, 700, 701, 702, 703, 704, 705, 706, 707, 708, 709, 710, 711, 712, 713, 714, 715, 716, 717, 718, 719, 720, 721, 722, 723, 724, 725, 726, 727, 728, 729, 730, 731, 732, 733, 734, 735, 736, 737, 738, 739, 740, 741, 742, 743, 744, 745, 746, 747, 748, 749, 750, 751, 752, 753, 754, 755, 756, 757, 758, 759, 760, 761, 762, 763, 764, 765, 766, 767, 768, 769, 770, 771, 772, 773, 774, 775, 776, 777, 778, 779, 780, 781, 782, 783, 784, 785, 786, 787, 788, 789, 790, 791, 792, 793, 794, 795, 796, 797, 798, 799, 800, 801, 802, 803, 804, 805, 806, 807, 808, 809, 810, 811, 812, 813, 814, 815, 816, 817, 818, 819, 820, 821, 822, 823, 824, 825, 826, 827, 828, 829, 830, 831, 832, 833, 834, 835, 836, 837, 838, 839, 840, 841, 842, 843, 844, 845, 846, 847, 848, 849, 850, 851, 852, 853, 854, 855, 856, 857, 858, 859, 860, 861, 862, 863, 864, 865, 866, 867, 868, 869, 870, 871, 872, 873, 874, 875, 876, 877, 878, 879, 880, 881, 882, 883, 884, 885, 886, 887, 888, 889, 890, 891, 892, 893, 894, 895, 896, 897, 898, 899, 900, 901, 902, 903, 904, 905, 906, 907, 908, 909, 910, 911, 912, 913, 914, 915, 916, 917, 918, 919, 920, 921, 922, 923, 924, 925, 926, 927, 928, 929, 930, 931, 932, 933, 934, 935, 936, 937, 938, 939, 940, 941, 942, 943, 944, 945, 946, 947, 948, 949, 950, 951, 952, 953, 954, 955, 956, 957, 958, 959, 960, 961, 962, 963, 964, 965, 966, 967, 968, 969, 970, 971, 972, 973, 974, 975, 976, 977, 978, 979, 980, 981, 982, 983, 984, 985, 986, 987, 988, 989, 990, 991, 992, 993, 994, 995, 996, 997, 998, 999, 1000, 1001, 1002, 1003, 1004, 1005, 1006, 1007, 1008, 1009, 1010, 1011, 1012, 1013, 1014, 1015, 1016, 1017, 1018, 1019, 1020, 1021, 1022, 1023, 1024, 1025, 1026, 1027, 1028, 1029, 1030, 1031, 1032, 1033, 1034, 1035, 1036, 1037, 1038, 1039, 1040, 1041, 1042, 1043, 1044, 1045, 1046, 1047, 1048, 1049, 1050, 1051, 1052, 1053, 1054, 1055, 1056, 1057, 1058, 1059, 1060, 1061, 1062, 1063, 1064, 1065, 1066, 1067, 1068, 1069, 1070, 1071, 1072, 1073, 1074, 1075, 1076, 1077, 1078, 1079, 1080, 1081, 1082, 1083, 1084, 1085, 1086, 1087, 1088, 1089, 1090, 1091, 1092, 1093, 1094, 1095, 1096, 1097, 1098, 1099, 1100, 1101, 1102, 1103, 1104, 1105, 1106, 1107, 1108, 1109, 1110, 1111, 1112, 1113, 1114, 1115, 1116, 1117, 1118, 1119, 1120, 1121, 1122, 1123, 1124, 1125, 1126, 1127, 1128, 1129, 1130, 1131, 1132, 1133, 1134, 1135, 1136, 1137, 1138, 1139, 1140, 1141, 1142, 1143, 1144, 1145, 1146, 1147, 1148, 1149, 1150, 1151, 1152, 1153, 1154, 1155, 1156, 1157, 1158, 1159, 1160, 1161, 1162, 1163, 1164, 1165, 1166, 1167, 1168, 1169, 1170, 1171, 1172, 1173, 1174, 1175, 1176, 1177, 1178, 1179, 1180, 1181, 1182, 1183, 1184, 1185, 1186, 1187, 1188, 1189, 1190, 1191, 1192, 1193, 1194, 1195, 1196, 1197, 1198, 1199, 1200, 1201, 1202, 1203, 1204, 1205, 1206, 1207, 1208, 1209, 1210, 1211, 1212, 1213, 1214, 1215, 1216, 1217, 1218, 1219, 1220, 1221, 1222, 1223, 1224, 1225, 1226, 1227, 1228, 1229, 1230, 1231, 1232, 1233, 1234, 1235, 1236, 1237, 1238, 1239, 1240, 1241, 1242, 1243, 1244, 1245, 1246, 1247, 1248, 1249, 1250, 1251, 1252, 1253, 1254, 1255, 1256, 1257, 1258, 1259, 1260, 1261, 1262, 1263, 1264, 1265, 1266, 1267, 1268, 1269, 1270, 1271, 1272, 1273, 1274, 1275, 1276, 1277, 1278, 1279, 1280, 1281, 1282, 1283, 1284, 1285, 1286, 1287, 1288, 1289, 1290, 1291, 1292, 1293, 1294, 1295, 1296, 1297, 1298, 1299, 1300, 1301, 1302, 1303, 1304, 1305, 1306, 1307, 1308, 1309, 1310, 1311, 1312, 1313, 1314, 1315, 1316, 1317, 1318, 1319, 1320, 1321, 1322, 1323, 1324, 1325, 1326, 1327, 1328, 1329, 1330, 1331, 1332, 1333, 1334, 1335, 1336, 1337, 1338, 1339, 1340, 1341, 1342, 1343, 1344, 1345, 1346, 1347, 1348, 1349, 1350, 1351, 1352, 1353, 1354, 1355, 1356, 1357, 1358, 1359, 1360, 1361, 1362, 1363, 1364, 1365, 1366, 1367, 1368, 1369, 1370, 1371, 1372, 1373, 1374, 1375, 1376, 1377, 1378, 1379, 1380, 1381, 1382, 1383, 1384, 1385, 1386, 1387, 1388, 1389, 1390, 1391, 1392, 1393, 1394, 1395, 1396, 1397, 1398, 1399, 1400, 1401, 1402, 1403, 1404, 1405, 1406, 1407, 1408, 1409, 1410, 1411, 1412, 1413, 1414, 1415, 1416, 1417, 1418, 1419, 1420, 1421, 1422, 1423, 1424, 1425, 1426, 1427, 1428, 1429, 1430, 1431, 1432, 1433, 1434, 1435, 1436, 1437, 1438, 1439, 1440, 1441, 1442, 1443, 1444, 1445, 1446, 1447, 1448, 1449, 1450, 1451, 1452, 1453, 1454, 1455, 1456, 1457, 1458, 1459, 1460, 1461, 1462, 1463, 1464, 1465, 1466, 1467, 1468, 1469, 1470, 1471, 1472, 1473, 1474, 1475, 1476, 1477, 1478, 1479, 1480, 1481, 1482, 1483, 1484, 1485, 1486, 1487, 1488, 1489, 1490, 1491, 1492, 1493, 1494, 1495, 1496, 1497, 1498, 1499, 1500, 1501, 1502, 1503, 1504, 1505, 1506, 1507, 1508, 1509, 1510, 1511, 1512, 1513, 1514, 1515, 1516, 1517, 1518, 1519, 1520, 1521, 1522, 1523, 1524, 1525, 1526, 1527, 1528, 1529, 1530, 1531, 1532, 1533, 1534, 1535, 1536, 1537, 1538, 1539, 1540, 1541, 1542, 1543, 1544, 1545, 1546, 1547, 1548, 1549, 1550, 1551, 1552, 1553, 1554, 1555, 1556, 1557, 1558, 1559, 1560, 1561, 1562, 1563, 1564, 1565, 1566, 1567, 1568, 1569, 1570, 1571, 1572, 1573, 1574, 1575, 1576, 1577, 1578, 1579, 1580, 1581, 1582, 1583, 1584, 1585, 1586, 1587, 1588, 1589, 1590, 1591, 1592, 1593, 1594, 1595, 1596, 1597, 1598, 1599, 1600, 1601, 1602, 1603, 1604, 1605, 1606, 1607, 1608, 1609, 1610, 1611, 1612, 1613, 1614, 1615, 1616, 1617, 1618, 1619, 1620, 1621, 1622, 1623, 1624, 1625, 1626, 1627, 1628, 1629, 1630, 1631, 1632, 1633, 1634, 1635, 1636, 1637, 1638, 1639, 1640, 1641, 1642, 1643, 1644, 1645, 1646, 1647, 1648, 1649, 1650, 1651, 1652, 1653, 1654, 1655, 1656, 1657, 1658, 1659, 1660, 1661, 1662, 1663, 1664, 1665, 1666, 1667, 1668, 1669, 1670, 1671, 1672, 1673, 1674, 1675, 1676, 1677, 1678, 1679, 1680, 1681, 1682, 1683, 1684, 1685, 1686, 1687, 1688, 1689, 1690, 1691, 1692, 1693, 1694, 1695, 1696, 1697, 1698, 1699, 1700, 1701, 1702, 1703, 1704, 1705, 1706, 1707, 1708, 1709, 1710, 1711, 1712, 1713, 1714, 1715, 1716, 1717, 1718, 1719, 1720, 1721, 1722, 1723, 1724, 1725, 1726, 1727, 1728, 1729, 1730, 1731, 1732, 1733, 1734, 1735, 1736, 1737, 1738, 1739, 1740, 1741, 1742, 1743, 1744, 1745, 1746, 1747, 1748, 1749, 1750, 1751, 1752, 1753, 1754, 1755, 1756, 1757, 1758, 1759, 1760, 1761, 1762, 1763, 1764, 1765, 1766, 1767, 1768, 1769, 1770, 1771, 1772, 1773, 1774, 1775, 1776, 1777, 1778, 1779, 1780, 1781, 1782, 1783, 1784, 1785, 1786, 1787, 1788, 1789, 1790, 1791, 1792, 1793, 1794, 1795, 1796, 1797, 1798, 1799, 1800, 1801, 1802, 1803, 1804, 1805, 1806, 1807, 1808, 1809, 1810, 1811, 1812, 1813, 1814, 1815, 1816, 1817, 1818, 1819, 1820, 1821, 1822, 1823, 1824, 1825, 1826, 1827, 1828, 1829, 1830, 1831, 1832, 1833, 1834, 1835, 1836, 1837, 1838, 1839, 1840, 1841, 1842, 1843, 1844, 1845, 1846, 1847, 1848, 1849, 1850, 1851, 1852, 1853, 1854, 1855, 1856, 1857, 1858, 1859, 1860, 1861, 1862, 1863, 1864, 1865, 1866, 1867, 1868, 1869, 1870, 1871, 1872, 1873, 1874, 1875, 1876, 1877, 1878, 1879, 1880, 1881, 1882, 1883, 1884, 1885, 1886, 1887, 1888, 1889, 1890, 1891, 1892, 1893, 1894, 1895, 1896, 1897, 1898, 1899, 1900, 1901, 1902, 1903, 1904, 1905, 1906, 1907, 1908, 1909, 1910, 1911, 1912, 1913, 1914, 1915, 1916, 1917, 1918, 1919, 1920, 1921, 1922, 1923, 1924, 1925, 1926, 1927, 1928, 1929, 1930, 1931, 1932, 1933, 1934, 1935, 1936, 1937, 1938, 1939, 1940, 1941, 1942, 1943, 1944, 1945, 1946, 1947, 1948, 1949, 1950, 1951, 1952, 1953, 1954, 1955, 1956, 1957, 1958, 1959, 1960, 1961, 1962, 1963, 1964, 1965, 1966, 1967, 1968, 1969, 1970, 1971, 1972, 1973, 1974, 1975, 1976, 1977, 1978, 1979, 1980, 1981, 1982, 1983, 1984, 1985, 1986, 1987, 1988, 1989, 1990, 1991, 1992, 1993, 1994, 1995, 1996, 1997, 1998, 1999, 2000, 2001, 2002, 2003, 2004, 2005, 2006, 2007, 2008, 2009, 2010, 2011, 2012, 2013, 2014, 2015, 2016, 2017, 2018, 2019, 2020, 2021, 2022, 2023, 2024, 2025, 2026, 2027, 2028, 2029, 2030, 2031, 2032]\n",
            "Column  Age :  [11, 41, 138, 170, 318, 428, 458, 492, 589, 675, 770, 824, 840, 876, 1124, 1141, 1152, 1182, 1212, 1395, 1396, 1523, 1646, 1705, 1772, 1940, 2026]\n",
            "Before          loanamount      totaldue     termdays          Age\n",
            "count   2033.000000   2033.000000  2033.000000  2033.000000\n",
            "mean   20774.717167  24479.457944     2.829173    37.413674\n",
            "std    11789.968470  13114.096057     0.286601     6.811549\n",
            "min    10000.000000  10000.000000     2.370797    25.000000\n",
            "25%    10000.000000  13000.000000     2.880811    32.000000\n",
            "50%    20000.000000  22250.000000     2.880811    36.000000\n",
            "75%    30000.000000  34500.000000     2.880811    42.000000\n",
            "max    60000.000000  68100.000000     3.619785    60.000000\n",
            "After          loanamount      totaldue     termdays          Age\n",
            "count   2033.000000   2033.000000  2033.000000  2033.000000\n",
            "mean   20435.317265  24250.461141     2.826453    37.289228\n",
            "std    11038.357965  12572.231466     0.280261     6.269769\n",
            "min    10000.000000  11500.000000     2.370797    28.000000\n",
            "25%    10000.000000  13000.000000     2.880811    32.000000\n",
            "50%    20000.000000  22250.000000     2.880811    36.000000\n",
            "75%    30000.000000  34500.000000     2.880811    42.000000\n",
            "max    40000.000000  48000.000000     3.356504    50.000000\n"
          ]
        }
      ]
    },
    {
      "cell_type": "code",
      "source": [
        "#Review columns\n",
        "result.columns"
      ],
      "metadata": {
        "colab": {
          "base_uri": "https://localhost:8080/"
        },
        "id": "OtxGsyn3p2J7",
        "outputId": "1c5a38c3-8f80-4942-fa27-f4554dfef9f8"
      },
      "execution_count": null,
      "outputs": [
        {
          "output_type": "execute_result",
          "data": {
            "text/plain": [
              "Index(['loanamount', 'totaldue', 'termdays', 'good_bad_flag', 'Age',\n",
              "       'Location_Cluster', 'bank_name_clients_First Bank',\n",
              "       'bank_name_clients_GT Bank', 'bank_name_clients_OTHER',\n",
              "       'employment_status_clients_OTHER',\n",
              "       'employment_status_clients_Permanent',\n",
              "       'employment_status_clients_Self-Employed',\n",
              "       'employment_status_clients_Student', 'bank_account_type_Current',\n",
              "       'bank_account_type_Other', 'bank_account_type_Savings',\n",
              "       'level_of_education_clients_Graduate',\n",
              "       'level_of_education_clients_Post-Graduate',\n",
              "       'level_of_education_clients_Primary',\n",
              "       'level_of_education_clients_Secondary'],\n",
              "      dtype='object')"
            ]
          },
          "metadata": {},
          "execution_count": 42
        }
      ]
    },
    {
      "cell_type": "code",
      "source": [
        "result.head()"
      ],
      "metadata": {
        "colab": {
          "base_uri": "https://localhost:8080/",
          "height": 285
        },
        "id": "CZK03Fs-L7vx",
        "outputId": "a05e3970-0ea6-4ec0-a445-047a914e1fce"
      },
      "execution_count": null,
      "outputs": [
        {
          "output_type": "execute_result",
          "data": {
            "text/html": [
              "\n",
              "  <div id=\"df-fc26d08b-bf5d-4198-8514-c87bdfc5c450\">\n",
              "    <div class=\"colab-df-container\">\n",
              "      <div>\n",
              "<style scoped>\n",
              "    .dataframe tbody tr th:only-of-type {\n",
              "        vertical-align: middle;\n",
              "    }\n",
              "\n",
              "    .dataframe tbody tr th {\n",
              "        vertical-align: top;\n",
              "    }\n",
              "\n",
              "    .dataframe thead th {\n",
              "        text-align: right;\n",
              "    }\n",
              "</style>\n",
              "<table border=\"1\" class=\"dataframe\">\n",
              "  <thead>\n",
              "    <tr style=\"text-align: right;\">\n",
              "      <th></th>\n",
              "      <th>loanamount</th>\n",
              "      <th>totaldue</th>\n",
              "      <th>termdays</th>\n",
              "      <th>good_bad_flag</th>\n",
              "      <th>Age</th>\n",
              "      <th>Location_Cluster</th>\n",
              "      <th>bank_name_clients_First Bank</th>\n",
              "      <th>bank_name_clients_GT Bank</th>\n",
              "      <th>bank_name_clients_OTHER</th>\n",
              "      <th>employment_status_clients_OTHER</th>\n",
              "      <th>employment_status_clients_Permanent</th>\n",
              "      <th>employment_status_clients_Self-Employed</th>\n",
              "      <th>employment_status_clients_Student</th>\n",
              "      <th>bank_account_type_Current</th>\n",
              "      <th>bank_account_type_Other</th>\n",
              "      <th>bank_account_type_Savings</th>\n",
              "      <th>level_of_education_clients_Graduate</th>\n",
              "      <th>level_of_education_clients_Post-Graduate</th>\n",
              "      <th>level_of_education_clients_Primary</th>\n",
              "      <th>level_of_education_clients_Secondary</th>\n",
              "    </tr>\n",
              "  </thead>\n",
              "  <tbody>\n",
              "    <tr>\n",
              "      <th>0</th>\n",
              "      <td>30000.0</td>\n",
              "      <td>34500.0</td>\n",
              "      <td>30</td>\n",
              "      <td>1</td>\n",
              "      <td>50</td>\n",
              "      <td>0</td>\n",
              "      <td>0</td>\n",
              "      <td>0</td>\n",
              "      <td>1</td>\n",
              "      <td>0</td>\n",
              "      <td>1</td>\n",
              "      <td>0</td>\n",
              "      <td>0</td>\n",
              "      <td>0</td>\n",
              "      <td>1</td>\n",
              "      <td>0</td>\n",
              "      <td>0</td>\n",
              "      <td>1</td>\n",
              "      <td>0</td>\n",
              "      <td>0</td>\n",
              "    </tr>\n",
              "    <tr>\n",
              "      <th>1</th>\n",
              "      <td>15000.0</td>\n",
              "      <td>17250.0</td>\n",
              "      <td>30</td>\n",
              "      <td>1</td>\n",
              "      <td>36</td>\n",
              "      <td>0</td>\n",
              "      <td>0</td>\n",
              "      <td>1</td>\n",
              "      <td>0</td>\n",
              "      <td>0</td>\n",
              "      <td>1</td>\n",
              "      <td>0</td>\n",
              "      <td>0</td>\n",
              "      <td>0</td>\n",
              "      <td>0</td>\n",
              "      <td>1</td>\n",
              "      <td>1</td>\n",
              "      <td>0</td>\n",
              "      <td>0</td>\n",
              "      <td>0</td>\n",
              "    </tr>\n",
              "    <tr>\n",
              "      <th>2</th>\n",
              "      <td>20000.0</td>\n",
              "      <td>22250.0</td>\n",
              "      <td>15</td>\n",
              "      <td>1</td>\n",
              "      <td>37</td>\n",
              "      <td>4</td>\n",
              "      <td>0</td>\n",
              "      <td>0</td>\n",
              "      <td>1</td>\n",
              "      <td>0</td>\n",
              "      <td>1</td>\n",
              "      <td>0</td>\n",
              "      <td>0</td>\n",
              "      <td>0</td>\n",
              "      <td>1</td>\n",
              "      <td>0</td>\n",
              "      <td>0</td>\n",
              "      <td>0</td>\n",
              "      <td>0</td>\n",
              "      <td>0</td>\n",
              "    </tr>\n",
              "    <tr>\n",
              "      <th>3</th>\n",
              "      <td>10000.0</td>\n",
              "      <td>11500.0</td>\n",
              "      <td>15</td>\n",
              "      <td>1</td>\n",
              "      <td>44</td>\n",
              "      <td>0</td>\n",
              "      <td>1</td>\n",
              "      <td>0</td>\n",
              "      <td>0</td>\n",
              "      <td>0</td>\n",
              "      <td>1</td>\n",
              "      <td>0</td>\n",
              "      <td>0</td>\n",
              "      <td>0</td>\n",
              "      <td>0</td>\n",
              "      <td>1</td>\n",
              "      <td>0</td>\n",
              "      <td>0</td>\n",
              "      <td>0</td>\n",
              "      <td>0</td>\n",
              "    </tr>\n",
              "    <tr>\n",
              "      <th>4</th>\n",
              "      <td>40000.0</td>\n",
              "      <td>44000.0</td>\n",
              "      <td>30</td>\n",
              "      <td>1</td>\n",
              "      <td>35</td>\n",
              "      <td>4</td>\n",
              "      <td>0</td>\n",
              "      <td>1</td>\n",
              "      <td>0</td>\n",
              "      <td>0</td>\n",
              "      <td>1</td>\n",
              "      <td>0</td>\n",
              "      <td>0</td>\n",
              "      <td>0</td>\n",
              "      <td>1</td>\n",
              "      <td>0</td>\n",
              "      <td>0</td>\n",
              "      <td>0</td>\n",
              "      <td>1</td>\n",
              "      <td>0</td>\n",
              "    </tr>\n",
              "  </tbody>\n",
              "</table>\n",
              "</div>\n",
              "      <button class=\"colab-df-convert\" onclick=\"convertToInteractive('df-fc26d08b-bf5d-4198-8514-c87bdfc5c450')\"\n",
              "              title=\"Convert this dataframe to an interactive table.\"\n",
              "              style=\"display:none;\">\n",
              "        \n",
              "  <svg xmlns=\"http://www.w3.org/2000/svg\" height=\"24px\"viewBox=\"0 0 24 24\"\n",
              "       width=\"24px\">\n",
              "    <path d=\"M0 0h24v24H0V0z\" fill=\"none\"/>\n",
              "    <path d=\"M18.56 5.44l.94 2.06.94-2.06 2.06-.94-2.06-.94-.94-2.06-.94 2.06-2.06.94zm-11 1L8.5 8.5l.94-2.06 2.06-.94-2.06-.94L8.5 2.5l-.94 2.06-2.06.94zm10 10l.94 2.06.94-2.06 2.06-.94-2.06-.94-.94-2.06-.94 2.06-2.06.94z\"/><path d=\"M17.41 7.96l-1.37-1.37c-.4-.4-.92-.59-1.43-.59-.52 0-1.04.2-1.43.59L10.3 9.45l-7.72 7.72c-.78.78-.78 2.05 0 2.83L4 21.41c.39.39.9.59 1.41.59.51 0 1.02-.2 1.41-.59l7.78-7.78 2.81-2.81c.8-.78.8-2.07 0-2.86zM5.41 20L4 18.59l7.72-7.72 1.47 1.35L5.41 20z\"/>\n",
              "  </svg>\n",
              "      </button>\n",
              "      \n",
              "  <style>\n",
              "    .colab-df-container {\n",
              "      display:flex;\n",
              "      flex-wrap:wrap;\n",
              "      gap: 12px;\n",
              "    }\n",
              "\n",
              "    .colab-df-convert {\n",
              "      background-color: #E8F0FE;\n",
              "      border: none;\n",
              "      border-radius: 50%;\n",
              "      cursor: pointer;\n",
              "      display: none;\n",
              "      fill: #1967D2;\n",
              "      height: 32px;\n",
              "      padding: 0 0 0 0;\n",
              "      width: 32px;\n",
              "    }\n",
              "\n",
              "    .colab-df-convert:hover {\n",
              "      background-color: #E2EBFA;\n",
              "      box-shadow: 0px 1px 2px rgba(60, 64, 67, 0.3), 0px 1px 3px 1px rgba(60, 64, 67, 0.15);\n",
              "      fill: #174EA6;\n",
              "    }\n",
              "\n",
              "    [theme=dark] .colab-df-convert {\n",
              "      background-color: #3B4455;\n",
              "      fill: #D2E3FC;\n",
              "    }\n",
              "\n",
              "    [theme=dark] .colab-df-convert:hover {\n",
              "      background-color: #434B5C;\n",
              "      box-shadow: 0px 1px 3px 1px rgba(0, 0, 0, 0.15);\n",
              "      filter: drop-shadow(0px 1px 2px rgba(0, 0, 0, 0.3));\n",
              "      fill: #FFFFFF;\n",
              "    }\n",
              "  </style>\n",
              "\n",
              "      <script>\n",
              "        const buttonEl =\n",
              "          document.querySelector('#df-fc26d08b-bf5d-4198-8514-c87bdfc5c450 button.colab-df-convert');\n",
              "        buttonEl.style.display =\n",
              "          google.colab.kernel.accessAllowed ? 'block' : 'none';\n",
              "\n",
              "        async function convertToInteractive(key) {\n",
              "          const element = document.querySelector('#df-fc26d08b-bf5d-4198-8514-c87bdfc5c450');\n",
              "          const dataTable =\n",
              "            await google.colab.kernel.invokeFunction('convertToInteractive',\n",
              "                                                     [key], {});\n",
              "          if (!dataTable) return;\n",
              "\n",
              "          const docLinkHtml = 'Like what you see? Visit the ' +\n",
              "            '<a target=\"_blank\" href=https://colab.research.google.com/notebooks/data_table.ipynb>data table notebook</a>'\n",
              "            + ' to learn more about interactive tables.';\n",
              "          element.innerHTML = '';\n",
              "          dataTable['output_type'] = 'display_data';\n",
              "          await google.colab.output.renderOutput(dataTable, element);\n",
              "          const docLink = document.createElement('div');\n",
              "          docLink.innerHTML = docLinkHtml;\n",
              "          element.appendChild(docLink);\n",
              "        }\n",
              "      </script>\n",
              "    </div>\n",
              "  </div>\n",
              "  "
            ],
            "text/plain": [
              "   loanamount  ...  level_of_education_clients_Secondary\n",
              "0     30000.0  ...                                     0\n",
              "1     15000.0  ...                                     0\n",
              "2     20000.0  ...                                     0\n",
              "3     10000.0  ...                                     0\n",
              "4     40000.0  ...                                     0\n",
              "\n",
              "[5 rows x 20 columns]"
            ]
          },
          "metadata": {},
          "execution_count": 44
        }
      ]
    },
    {
      "cell_type": "markdown",
      "source": [
        "##Separating predictors and the target"
      ],
      "metadata": {
        "id": "Q-Bpkyg5m7NN"
      }
    },
    {
      "cell_type": "code",
      "source": [
        "# Split data into predictors X and target y\n",
        "X = result.drop(columns = ['good_bad_flag'])\n",
        "y = result['good_bad_flag']"
      ],
      "metadata": {
        "id": "s2BulnHwMZgQ"
      },
      "execution_count": null,
      "outputs": []
    },
    {
      "cell_type": "markdown",
      "source": [
        "##Holdout Sample"
      ],
      "metadata": {
        "id": "RM4JMzrWnESF"
      }
    },
    {
      "cell_type": "code",
      "source": [
        "# Create holdout sample\n",
        "X_train, X_test, y_train, y_test = train_test_split(X, y, test_size=0.3, random_state=42)\n",
        "print('Training Data Predictors\\n',X_train.head(), '\\nTraining Data Target\\n',y_train.head(),'\\n')\n",
        "print('Test Data Predictors\\n',X_test.head(), '\\nTest Data Target\\n',y_test.head())"
      ],
      "metadata": {
        "colab": {
          "base_uri": "https://localhost:8080/"
        },
        "id": "vH2BfGksM7FH",
        "outputId": "a247e750-0ed3-4594-afee-114fa29c1355"
      },
      "execution_count": null,
      "outputs": [
        {
          "output_type": "stream",
          "name": "stdout",
          "text": [
            "Training Data Predictors\n",
            "       loanamount  ...  level_of_education_clients_Secondary\n",
            "1113     10000.0  ...                                     0\n",
            "1993     20000.0  ...                                     0\n",
            "2739     40000.0  ...                                     0\n",
            "718      20000.0  ...                                     0\n",
            "699      10000.0  ...                                     0\n",
            "\n",
            "[5 rows x 19 columns] \n",
            "Training Data Target\n",
            " 1113    0\n",
            "1993    1\n",
            "2739    1\n",
            "718     0\n",
            "699     1\n",
            "Name: good_bad_flag, dtype: int64 \n",
            "\n",
            "Test Data Predictors\n",
            "       loanamount  ...  level_of_education_clients_Secondary\n",
            "875      30000.0  ...                                     0\n",
            "1335     40000.0  ...                                     0\n",
            "689      10000.0  ...                                     0\n",
            "752      10000.0  ...                                     0\n",
            "3151     30000.0  ...                                     0\n",
            "\n",
            "[5 rows x 19 columns] \n",
            "Test Data Target\n",
            " 875     1\n",
            "1335    1\n",
            "689     1\n",
            "752     1\n",
            "3151    1\n",
            "Name: good_bad_flag, dtype: int64\n"
          ]
        }
      ]
    },
    {
      "cell_type": "markdown",
      "source": [
        "## Standardization of predictor"
      ],
      "metadata": {
        "id": "xWlSn1SFnUGH"
      }
    },
    {
      "cell_type": "code",
      "source": [
        "# Standardization of predictor\n",
        "stdsc = StandardScaler()  \n",
        "X_train_std = stdsc.fit_transform(X_train)   \n",
        "X_test_std = stdsc.transform(X_test)             # transform uses the parameters from scaling the training data to transform our test data"
      ],
      "metadata": {
        "colab": {
          "base_uri": "https://localhost:8080/"
        },
        "id": "JIgcYLygNOLJ",
        "outputId": "1e505866-dc31-4725-e005-c8f3e8500cd2"
      },
      "execution_count": null,
      "outputs": [
        {
          "output_type": "stream",
          "name": "stdout",
          "text": [
            "Mean and Standard Deviation of sepal_width in Training Data:  1.0485873120844767e-16    1.0\n",
            "Mean and Standard Deviation of sepal width in Test Data:  -0.0034530064829053947    0.9616602311448297\n"
          ]
        }
      ]
    },
    {
      "cell_type": "markdown",
      "source": [
        "## Comparing Classifiers"
      ],
      "metadata": {
        "id": "sOYBfEVmnaRk"
      }
    },
    {
      "cell_type": "code",
      "source": [
        "# Performance Measures - Unbalanced Data, Cross Validation, with a Pipeline\n",
        "names = [\"Perceptron\", \"Logistic Regression\", \"SVM (RBF kernel)\", \"Decision Tree\", \"Naive Bayes\", \"k Nearest Neighbors\", \"MLP\", \"Random Forest\", \"XG Boost\", \"Light GBM\"]\n",
        "\n",
        "classifiers = [\n",
        "    Perceptron(random_state=1),    \n",
        "    LogisticRegression(),   \n",
        "    SVC(kernel=\"rbf\", C=1),\n",
        "    DecisionTreeClassifier(max_depth=5),\n",
        "    GaussianNB(),\n",
        "    KNeighborsClassifier(3),\n",
        "    MLPClassifier(hidden_layer_sizes=(50,50),alpha=1, max_iter=1000),\n",
        "    RandomForestClassifier(max_depth=5, n_estimators=10, max_features=1),\n",
        "    XGBClassifier(random_state=0, n_jobs=-1, learning_rate=0.1, n_estimators=100, max_depth=3),\n",
        "    LGBMClassifier(boosting_type='gbdt', objective='binary', num_leaves=50, learning_rate=0.1, bagging_fraction=0.9, feature_fraction=0.9, reg_lambda=0.2)]\n",
        "\n",
        "# Build each classifier using the unbalanced TRAINING data, show decision region and petrformance of the unbalanced TEST data \n",
        "for name, clf in zip(names, classifiers):\n",
        "  # Pipeline\n",
        "  estimators = []\n",
        "  estimators.append(('standardize', StandardScaler()))\n",
        "  estimators.append(('classifier',clf))\n",
        "  model = Pipeline(estimators)\n",
        "  # Eval Pipeline\n",
        "  kfold_cv = StratifiedKFold(n_splits=3, shuffle=True, random_state=11)\n",
        "  scoring = ['accuracy','balanced_accuracy','precision','recall','f1','roc_auc']\n",
        "  for sc in scoring:\n",
        "    results = cross_val_score(model, X=X, y=y, cv=kfold_cv, scoring=sc)\n",
        "    print('Classifier: %s Metric %s mean (std deviation): %.3f (%.3f)' % (name, sc, results.mean(), results.std()))"
      ],
      "metadata": {
        "colab": {
          "base_uri": "https://localhost:8080/"
        },
        "id": "vkxDp2RCPH3M",
        "outputId": "b1955edf-4d03-4ce8-9985-102cd8a1ef41"
      },
      "execution_count": null,
      "outputs": [
        {
          "output_type": "stream",
          "name": "stdout",
          "text": [
            "Classifier: Perceptron Metric accuracy mean (std deviation): 0.598 (0.015)\n",
            "Classifier: Perceptron Metric balanced_accuracy mean (std deviation): 0.565 (0.031)\n",
            "Classifier: Perceptron Metric precision mean (std deviation): 0.794 (0.022)\n",
            "Classifier: Perceptron Metric recall mean (std deviation): 0.630 (0.037)\n",
            "Classifier: Perceptron Metric f1 mean (std deviation): 0.701 (0.018)\n",
            "Classifier: Perceptron Metric roc_auc mean (std deviation): 0.582 (0.027)\n",
            "Classifier: Logistic Regression Metric accuracy mean (std deviation): 0.752 (0.001)\n",
            "Classifier: Logistic Regression Metric balanced_accuracy mean (std deviation): 0.501 (0.001)\n",
            "Classifier: Logistic Regression Metric precision mean (std deviation): 0.752 (0.001)\n",
            "Classifier: Logistic Regression Metric recall mean (std deviation): 1.000 (0.000)\n",
            "Classifier: Logistic Regression Metric f1 mean (std deviation): 0.858 (0.001)\n",
            "Classifier: Logistic Regression Metric roc_auc mean (std deviation): 0.635 (0.018)\n",
            "Classifier: SVM (RBF kernel) Metric accuracy mean (std deviation): 0.751 (0.002)\n",
            "Classifier: SVM (RBF kernel) Metric balanced_accuracy mean (std deviation): 0.502 (0.003)\n",
            "Classifier: SVM (RBF kernel) Metric precision mean (std deviation): 0.752 (0.000)\n",
            "Classifier: SVM (RBF kernel) Metric recall mean (std deviation): 0.996 (0.006)\n",
            "Classifier: SVM (RBF kernel) Metric f1 mean (std deviation): 0.857 (0.002)\n",
            "Classifier: SVM (RBF kernel) Metric roc_auc mean (std deviation): 0.551 (0.014)\n",
            "Classifier: Decision Tree Metric accuracy mean (std deviation): 0.742 (0.005)\n",
            "Classifier: Decision Tree Metric balanced_accuracy mean (std deviation): 0.496 (0.006)\n",
            "Classifier: Decision Tree Metric precision mean (std deviation): 0.750 (0.003)\n",
            "Classifier: Decision Tree Metric recall mean (std deviation): 0.984 (0.005)\n",
            "Classifier: Decision Tree Metric f1 mean (std deviation): 0.851 (0.003)\n",
            "Classifier: Decision Tree Metric roc_auc mean (std deviation): 0.599 (0.032)\n",
            "Classifier: Naive Bayes Metric accuracy mean (std deviation): 0.692 (0.010)\n",
            "Classifier: Naive Bayes Metric balanced_accuracy mean (std deviation): 0.566 (0.021)\n",
            "Classifier: Naive Bayes Metric precision mean (std deviation): 0.783 (0.011)\n",
            "Classifier: Naive Bayes Metric recall mean (std deviation): 0.817 (0.019)\n",
            "Classifier: Naive Bayes Metric f1 mean (std deviation): 0.799 (0.008)\n",
            "Classifier: Naive Bayes Metric roc_auc mean (std deviation): 0.624 (0.014)\n",
            "Classifier: k Nearest Neighbors Metric accuracy mean (std deviation): 0.655 (0.006)\n",
            "Classifier: k Nearest Neighbors Metric balanced_accuracy mean (std deviation): 0.479 (0.004)\n",
            "Classifier: k Nearest Neighbors Metric precision mean (std deviation): 0.742 (0.002)\n",
            "Classifier: k Nearest Neighbors Metric recall mean (std deviation): 0.828 (0.009)\n",
            "Classifier: k Nearest Neighbors Metric f1 mean (std deviation): 0.783 (0.005)\n",
            "Classifier: k Nearest Neighbors Metric roc_auc mean (std deviation): 0.487 (0.011)\n",
            "Classifier: MLP Metric accuracy mean (std deviation): 0.750 (0.003)\n",
            "Classifier: MLP Metric balanced_accuracy mean (std deviation): 0.501 (0.001)\n",
            "Classifier: MLP Metric precision mean (std deviation): 0.752 (0.000)\n",
            "Classifier: MLP Metric recall mean (std deviation): 0.996 (0.006)\n",
            "Classifier: MLP Metric f1 mean (std deviation): 0.857 (0.002)\n",
            "Classifier: MLP Metric roc_auc mean (std deviation): 0.607 (0.017)\n",
            "Classifier: Random Forest Metric accuracy mean (std deviation): 0.749 (0.002)\n",
            "Classifier: Random Forest Metric balanced_accuracy mean (std deviation): 0.502 (0.002)\n",
            "Classifier: Random Forest Metric precision mean (std deviation): 0.752 (0.001)\n",
            "Classifier: Random Forest Metric recall mean (std deviation): 0.999 (0.001)\n",
            "Classifier: Random Forest Metric f1 mean (std deviation): 0.858 (0.000)\n",
            "Classifier: Random Forest Metric roc_auc mean (std deviation): 0.609 (0.013)\n",
            "Classifier: XG Boost Metric accuracy mean (std deviation): 0.748 (0.002)\n",
            "Classifier: XG Boost Metric balanced_accuracy mean (std deviation): 0.504 (0.006)\n",
            "Classifier: XG Boost Metric precision mean (std deviation): 0.753 (0.002)\n",
            "Classifier: XG Boost Metric recall mean (std deviation): 0.990 (0.009)\n",
            "Classifier: XG Boost Metric f1 mean (std deviation): 0.855 (0.002)\n",
            "Classifier: XG Boost Metric roc_auc mean (std deviation): 0.616 (0.006)\n",
            "Classifier: Light GBM Metric accuracy mean (std deviation): 0.680 (0.012)\n",
            "Classifier: Light GBM Metric balanced_accuracy mean (std deviation): 0.488 (0.010)\n",
            "Classifier: Light GBM Metric precision mean (std deviation): 0.746 (0.004)\n",
            "Classifier: Light GBM Metric recall mean (std deviation): 0.869 (0.014)\n",
            "Classifier: Light GBM Metric f1 mean (std deviation): 0.803 (0.008)\n",
            "Classifier: Light GBM Metric roc_auc mean (std deviation): 0.534 (0.013)\n"
          ]
        }
      ]
    },
    {
      "cell_type": "markdown",
      "source": [
        "## Oversampling with SMOTE"
      ],
      "metadata": {
        "id": "VDfJeeZOneB-"
      }
    },
    {
      "cell_type": "code",
      "source": [
        "# SMOTE (oversampling)\n",
        "# Data is unbalanced (38.54% converted instances)\n",
        "\n",
        "import imblearn\n",
        "print(\"imblearn version: \", imblearn.__version__)\n",
        "\n",
        "from imblearn.over_sampling import SMOTE\n",
        "\n",
        "sm = SMOTE(random_state=12346)\n",
        "X_train_SMOTE, y_train_SMOTE = sm.fit_resample(X_train, y_train)\n",
        "\n",
        "print(\"Shape before SMOTE: \", X_train.shape, y_train.shape, \"\\n\")\n",
        "print(\"Shape after SMOTE: \", X_train_SMOTE.shape, y_train_SMOTE.shape, \"\\n\")"
      ],
      "metadata": {
        "colab": {
          "base_uri": "https://localhost:8080/"
        },
        "id": "ybqUo1xfZSmk",
        "outputId": "bcc3b8ea-594a-4ba8-fd41-c6af7da1e30c"
      },
      "execution_count": null,
      "outputs": [
        {
          "output_type": "stream",
          "name": "stdout",
          "text": [
            "imblearn version:  0.8.1\n",
            "Shape before SMOTE:  (1423, 19) (1423,) \n",
            "\n",
            "Shape after SMOTE:  (2134, 19) (2134,) \n",
            "\n"
          ]
        }
      ]
    },
    {
      "cell_type": "code",
      "source": [
        "# Standardization z-score  (https://scikit-learn.org/stable/modules/generated/sklearn.preprocessing.StandardScaler.html#sklearn.preprocessing.StandardScaler)\n",
        "# from sklearn.preprocessing import StandardScaler\n",
        "stdsc = StandardScaler()  \n",
        "X_train_SMOTE_std = stdsc.fit_transform(X_train_SMOTE)\n",
        "X_test_std = stdsc.transform(X_test)"
      ],
      "metadata": {
        "id": "gafybXhJZaFe"
      },
      "execution_count": null,
      "outputs": []
    },
    {
      "cell_type": "markdown",
      "source": [
        "## Recursive Feature Elimination"
      ],
      "metadata": {
        "id": "19hyq97Fnk2L"
      }
    },
    {
      "cell_type": "code",
      "source": [
        "from sklearn.feature_selection import RFE\n",
        "rfe = RFE(estimator=RandomForestClassifier(), n_features_to_select=10)    #Selecting the top n features, from about 70, to improve model robustness.\n",
        "_ = rfe.fit(X_train_SMOTE_std,y_train_SMOTE)\n",
        "print('Important Features\\n',X.columns[rfe.support_])\n",
        "rf = RandomForestClassifier()\n",
        "_ = rf.fit(rfe.transform(X_train_SMOTE_std), y_train_SMOTE)\n",
        "print(\"\\n Accuracy: \",rf.score(rfe.transform(X_test_std), y_test))"
      ],
      "metadata": {
        "colab": {
          "base_uri": "https://localhost:8080/"
        },
        "id": "dEXV4Nj2ZcsF",
        "outputId": "9ca888fa-f893-4bec-ca89-c2d398bcd16f"
      },
      "execution_count": null,
      "outputs": [
        {
          "output_type": "stream",
          "name": "stdout",
          "text": [
            "Important Features\n",
            " Index(['loanamount', 'totaldue', 'Age', 'Location_Cluster',\n",
            "       'bank_name_clients_First Bank', 'bank_name_clients_GT Bank',\n",
            "       'bank_name_clients_OTHER', 'employment_status_clients_OTHER',\n",
            "       'employment_status_clients_Permanent', 'bank_account_type_Other'],\n",
            "      dtype='object')\n",
            "\n",
            " Accuracy:  0.5689655172413793\n"
          ]
        }
      ]
    },
    {
      "cell_type": "code",
      "source": [
        "# Work with the set of predictors identified by RFE\n",
        "best_predictors = rfe.support_              # identifies features used\n",
        "new_features = []                           # X with selected features\n",
        "for feature, predictor in list(zip(X, best_predictors)):\n",
        "    if predictor == True:\n",
        "        new_features.append(feature)\n",
        "\n",
        "X = result[new_features]\n",
        "X.shape"
      ],
      "metadata": {
        "colab": {
          "base_uri": "https://localhost:8080/"
        },
        "id": "bGxRpCs-Zsa2",
        "outputId": "ac1fa450-bb61-4df1-c784-9fe502cac11d"
      },
      "execution_count": null,
      "outputs": [
        {
          "output_type": "execute_result",
          "data": {
            "text/plain": [
              "(2033, 10)"
            ]
          },
          "metadata": {},
          "execution_count": 74
        }
      ]
    },
    {
      "cell_type": "markdown",
      "source": [
        "## Comparing Classifiers after SMOTE"
      ],
      "metadata": {
        "id": "t7WhhDybnr7m"
      }
    },
    {
      "cell_type": "code",
      "source": [
        "from numpy.random.mtrand import f\n",
        "# Workflow standardizes, SMOTEs training set, fits a classifier, and reports metrics.\n",
        "# SMOTE evidently doesn't have a 'fit_transform' method, so there's no way to incorporate it into an sklearn pipeline\n",
        "# We'll consider an alternative - an imblearn pipeline in the gridsearch section\n",
        "\n",
        "names = [\"Perceptron\", \"Logistic Regression\", \"SVM (RBF kernel)\", \"Decision Tree\", \"Naive Bayes\", \"k Nearest Neighbors\", \"MLP\", \"Random Forest\", \"XG Boost\", \"Light GBM\"]\n",
        "classifiers = [\n",
        "    Perceptron(random_state=1),    \n",
        "    LogisticRegression(),   \n",
        "    SVC(kernel=\"rbf\", C=1),\n",
        "    DecisionTreeClassifier(max_depth=5),\n",
        "    GaussianNB(),\n",
        "    KNeighborsClassifier(3),\n",
        "    MLPClassifier(hidden_layer_sizes=(50,50),alpha=1, max_iter=1000),\n",
        "    RandomForestClassifier(max_depth=5, n_estimators=10, max_features=1),\n",
        "    XGBClassifier(random_state=0, n_jobs=-1, learning_rate=0.1, n_estimators=100, max_depth=3),\n",
        "    LGBMClassifier(boosting_type='gbdt', objective='binary', num_leaves=50, learning_rate=0.1, bagging_fraction=0.9, feature_fraction=0.9, reg_lambda=0.2)]\n",
        "\n",
        "# Build each classifier using the unbalanced TRAINING data, show decision region and petrformance of the unbalanced TEST data \n",
        "no_folds = 5 # number of folds desired for cross validation\n",
        "kf = StratifiedKFold(n_splits=no_folds, shuffle=True, random_state=12345)\n",
        "for name, clf in zip(names, classifiers):\n",
        "  print('CLASSIFIER: ',name,'\\n')\n",
        "  mean_accuracy = 0.0\n",
        "  mean_balanced_accuracy = 0.0\n",
        "  mean_auc = 0.0\n",
        "  for fold, (train_index, test_index) in enumerate(kf.split(X,y),1):\n",
        "    X_train, X_test = X.iloc[list(train_index)], X.iloc[list(test_index)]\n",
        "    y_train, y_test = y.iloc[list(train_index)], y.iloc[list(test_index)] \n",
        "    sm = SMOTE()\n",
        "    X_train_SMOTE, y_train_SMOTE = sm.fit_resample(X_train, y_train)\n",
        "    stdsc = StandardScaler()  \n",
        "    X_train_SMOTE_std = stdsc.fit_transform(X_train_SMOTE)   \n",
        "    X_test_std = stdsc.transform(X_test)   \n",
        "    clf.fit(X_train_SMOTE_std, y_train_SMOTE) \n",
        "    y_pred = clf.predict(X_test_std)\n",
        "    print(f'For fold {fold}:')\n",
        "    print(f'Accuracy: {clf.score(X_test_std, y_test)}')\n",
        "    print(f'Balanced Accuracy: {balanced_accuracy_score(y_test, y_pred)}')\n",
        "    print(f'AUC: {roc_auc_score(y_test, y_pred)}')\n",
        "    print(f'Confusion Matrix: \\n{confusion_matrix(y_test, y_pred)}')\n",
        "    mean_accuracy = mean_accuracy + clf.score(X_test_std, y_test)\n",
        "    mean_balanced_accuracy = mean_balanced_accuracy + balanced_accuracy_score(y_test, y_pred)\n",
        "    mean_auc = mean_auc + roc_auc_score(y_test, y_pred)\n",
        "  mean_accuracy = mean_accuracy / no_folds\n",
        "  mean_balanced_accuracy = mean_balanced_accuracy / no_folds\n",
        "  mean_auc = mean_auc / no_folds\n",
        "  print('Average accuracy: %.3f Average balanced accuracy: %.3f Average AUC: %.3f\\n\\n' % (mean_accuracy, mean_balanced_accuracy, mean_auc))"
      ],
      "metadata": {
        "colab": {
          "base_uri": "https://localhost:8080/"
        },
        "id": "NhP2A-0nVLuA",
        "outputId": "13282656-3d4f-43a2-8e0a-35b85aeb63e3"
      },
      "execution_count": null,
      "outputs": [
        {
          "output_type": "stream",
          "name": "stdout",
          "text": [
            "CLASSIFIER:  Perceptron \n",
            "\n",
            "For fold 1:\n",
            "Accuracy: 0.7199017199017199\n",
            "Balanced Accuracy: 0.5749369054552514\n",
            "AUC: 0.5749369054552514\n",
            "Confusion Matrix: \n",
            "[[ 29  72]\n",
            " [ 42 264]]\n",
            "For fold 2:\n",
            "Accuracy: 0.6142506142506142\n",
            "Balanced Accuracy: 0.5212580081537566\n",
            "AUC: 0.5212580081537566\n",
            "Confusion Matrix: \n",
            "[[ 34  67]\n",
            " [ 90 216]]\n",
            "For fold 3:\n",
            "Accuracy: 0.6363636363636364\n",
            "Balanced Accuracy: 0.5392803986280981\n",
            "AUC: 0.5392803986280981\n",
            "Confusion Matrix: \n",
            "[[ 35  66]\n",
            " [ 82 224]]\n",
            "For fold 4:\n",
            "Accuracy: 0.5665024630541872\n",
            "Balanced Accuracy: 0.6022074338581399\n",
            "AUC: 0.6022074338581399\n",
            "Confusion Matrix: \n",
            "[[ 68  33]\n",
            " [143 162]]\n",
            "For fold 5:\n",
            "Accuracy: 0.5443349753694581\n",
            "Balanced Accuracy: 0.541097224476546\n",
            "AUC: 0.541097224476546\n",
            "Confusion Matrix: \n",
            "[[ 54  47]\n",
            " [138 167]]\n",
            "Average accuracy: 0.616 Average balanced accuracy: 0.556 Average AUC: 0.556\n",
            "\n",
            "\n",
            "CLASSIFIER:  Logistic Regression \n",
            "\n",
            "For fold 1:\n",
            "Accuracy: 0.6756756756756757\n",
            "Balanced Accuracy: 0.5156765676567657\n",
            "AUC: 0.5156765676567656\n",
            "Confusion Matrix: \n",
            "[[ 20  81]\n",
            " [ 51 255]]\n",
            "For fold 2:\n",
            "Accuracy: 0.6977886977886978\n",
            "Balanced Accuracy: 0.5569145149809098\n",
            "AUC: 0.5569145149809098\n",
            "Confusion Matrix: \n",
            "[[ 28  73]\n",
            " [ 50 256]]\n",
            "For fold 3:\n",
            "Accuracy: 0.6732186732186732\n",
            "Balanced Accuracy: 0.5273086132142626\n",
            "AUC: 0.5273086132142626\n",
            "Confusion Matrix: \n",
            "[[ 24  77]\n",
            " [ 56 250]]\n",
            "For fold 4:\n",
            "Accuracy: 0.687192118226601\n",
            "Balanced Accuracy: 0.5302223664989449\n",
            "AUC: 0.5302223664989449\n",
            "Confusion Matrix: \n",
            "[[ 22  79]\n",
            " [ 48 257]]\n",
            "For fold 5:\n",
            "Accuracy: 0.7315270935960592\n",
            "Balanced Accuracy: 0.5597305632202565\n",
            "AUC: 0.5597305632202564\n",
            "Confusion Matrix: \n",
            "[[ 22  79]\n",
            " [ 30 275]]\n",
            "Average accuracy: 0.693 Average balanced accuracy: 0.538 Average AUC: 0.538\n",
            "\n",
            "\n",
            "CLASSIFIER:  SVM (RBF kernel) \n",
            "\n",
            "For fold 1:\n",
            "Accuracy: 0.683046683046683\n",
            "Balanced Accuracy: 0.5205785284410794\n",
            "AUC: 0.5205785284410793\n",
            "Confusion Matrix: \n",
            "[[ 20  81]\n",
            " [ 48 258]]\n",
            "For fold 2:\n",
            "Accuracy: 0.6609336609336609\n",
            "Balanced Accuracy: 0.5224551866951401\n",
            "AUC: 0.5224551866951401\n",
            "Confusion Matrix: \n",
            "[[ 25  76]\n",
            " [ 62 244]]\n",
            "For fold 3:\n",
            "Accuracy: 0.6904176904176904\n",
            "Balanced Accuracy: 0.49231540801138934\n",
            "AUC: 0.4923154080113894\n",
            "Confusion Matrix: \n",
            "[[ 10  91]\n",
            " [ 35 271]]\n",
            "For fold 4:\n",
            "Accuracy: 0.6551724137931034\n",
            "Balanced Accuracy: 0.5453335497484175\n",
            "AUC: 0.5453335497484175\n",
            "Confusion Matrix: \n",
            "[[ 33  68]\n",
            " [ 72 233]]\n",
            "For fold 5:\n",
            "Accuracy: 0.6847290640394089\n",
            "Balanced Accuracy: 0.5517610777471189\n",
            "AUC: 0.5517610777471189\n",
            "Confusion Matrix: \n",
            "[[ 29  72]\n",
            " [ 56 249]]\n",
            "Average accuracy: 0.675 Average balanced accuracy: 0.526 Average AUC: 0.526\n",
            "\n",
            "\n",
            "CLASSIFIER:  Decision Tree \n",
            "\n",
            "For fold 1:\n",
            "Accuracy: 0.6511056511056511\n",
            "Balanced Accuracy: 0.578932893289329\n",
            "AUC: 0.578932893289329\n",
            "Confusion Matrix: \n",
            "[[ 44  57]\n",
            " [ 85 221]]\n",
            "For fold 2:\n",
            "Accuracy: 0.6363636363636364\n",
            "Balanced Accuracy: 0.5492299229922992\n",
            "AUC: 0.5492299229922992\n",
            "Confusion Matrix: \n",
            "[[ 38  63]\n",
            " [ 85 221]]\n",
            "For fold 3:\n",
            "Accuracy: 0.6805896805896806\n",
            "Balanced Accuracy: 0.5056785090273733\n",
            "AUC: 0.5056785090273733\n",
            "Confusion Matrix: \n",
            "[[ 16  85]\n",
            " [ 45 261]]\n",
            "For fold 4:\n",
            "Accuracy: 0.5911330049261084\n",
            "Balanced Accuracy: 0.5755559162473625\n",
            "AUC: 0.5755559162473625\n",
            "Confusion Matrix: \n",
            "[[ 55  46]\n",
            " [120 185]]\n",
            "For fold 5:\n",
            "Accuracy: 0.6724137931034483\n",
            "Balanced Accuracy: 0.583298165882162\n",
            "AUC: 0.583298165882162\n",
            "Confusion Matrix: \n",
            "[[ 41  60]\n",
            " [ 73 232]]\n",
            "Average accuracy: 0.646 Average balanced accuracy: 0.559 Average AUC: 0.559\n",
            "\n",
            "\n",
            "CLASSIFIER:  Naive Bayes \n",
            "\n",
            "For fold 1:\n",
            "Accuracy: 0.5577395577395577\n",
            "Balanced Accuracy: 0.5931210768135637\n",
            "AUC: 0.5931210768135636\n",
            "Confusion Matrix: \n",
            "[[ 67  34]\n",
            " [146 160]]\n",
            "For fold 2:\n",
            "Accuracy: 0.5454545454545454\n",
            "Balanced Accuracy: 0.5716851096874394\n",
            "AUC: 0.5716851096874394\n",
            "Confusion Matrix: \n",
            "[[ 63  38]\n",
            " [147 159]]\n",
            "For fold 3:\n",
            "Accuracy: 0.5528255528255528\n",
            "Balanced Accuracy: 0.5666375461075519\n",
            "AUC: 0.5666375461075519\n",
            "Confusion Matrix: \n",
            "[[ 60  41]\n",
            " [141 165]]\n",
            "For fold 4:\n",
            "Accuracy: 0.5714285714285714\n",
            "Balanced Accuracy: 0.60879727316994\n",
            "AUC: 0.6087972731699399\n",
            "Confusion Matrix: \n",
            "[[ 69  32]\n",
            " [142 163]]\n",
            "For fold 5:\n",
            "Accuracy: 0.5935960591133005\n",
            "Balanced Accuracy: 0.616929069956176\n",
            "AUC: 0.6169290699561759\n",
            "Confusion Matrix: \n",
            "[[ 67  34]\n",
            " [131 174]]\n",
            "Average accuracy: 0.564 Average balanced accuracy: 0.591 Average AUC: 0.591\n",
            "\n",
            "\n",
            "CLASSIFIER:  k Nearest Neighbors \n",
            "\n",
            "For fold 1:\n",
            "Accuracy: 0.5995085995085995\n",
            "Balanced Accuracy: 0.4418074160357212\n",
            "AUC: 0.4418074160357212\n",
            "Confusion Matrix: \n",
            "[[ 13  88]\n",
            " [ 75 231]]\n",
            "For fold 2:\n",
            "Accuracy: 0.5872235872235873\n",
            "Balanced Accuracy: 0.46016954636640134\n",
            "AUC: 0.4601695463664014\n",
            "Confusion Matrix: \n",
            "[[ 21  80]\n",
            " [ 88 218]]\n",
            "For fold 3:\n",
            "Accuracy: 0.6388206388206388\n",
            "Balanced Accuracy: 0.4845337474923963\n",
            "AUC: 0.4845337474923963\n",
            "Confusion Matrix: \n",
            "[[ 18  83]\n",
            " [ 64 242]]\n",
            "For fold 4:\n",
            "Accuracy: 0.6059113300492611\n",
            "Balanced Accuracy: 0.4661905534815777\n",
            "AUC: 0.4661905534815777\n",
            "Confusion Matrix: \n",
            "[[ 19  82]\n",
            " [ 78 227]]\n",
            "For fold 5:\n",
            "Accuracy: 0.6157635467980296\n",
            "Balanced Accuracy: 0.5091705891900665\n",
            "AUC: 0.5091705891900665\n",
            "Confusion Matrix: \n",
            "[[ 30  71]\n",
            " [ 85 220]]\n",
            "Average accuracy: 0.609 Average balanced accuracy: 0.472 Average AUC: 0.472\n",
            "\n",
            "\n",
            "CLASSIFIER:  MLP \n",
            "\n",
            "For fold 1:\n",
            "Accuracy: 0.6953316953316954\n",
            "Balanced Accuracy: 0.5187989387174011\n",
            "AUC: 0.5187989387174011\n",
            "Confusion Matrix: \n",
            "[[ 17  84]\n",
            " [ 40 266]]\n",
            "For fold 2:\n",
            "Accuracy: 0.6756756756756757\n",
            "Balanced Accuracy: 0.5355756163851679\n",
            "AUC: 0.5355756163851679\n",
            "Confusion Matrix: \n",
            "[[ 26  75]\n",
            " [ 57 249]]\n",
            "For fold 3:\n",
            "Accuracy: 0.7051597051597052\n",
            "Balanced Accuracy: 0.5419174270368213\n",
            "AUC: 0.5419174270368213\n",
            "Confusion Matrix: \n",
            "[[ 22  79]\n",
            " [ 41 265]]\n",
            "For fold 4:\n",
            "Accuracy: 0.6600985221674877\n",
            "Balanced Accuracy: 0.5453010874857978\n",
            "AUC: 0.5453010874857978\n",
            "Confusion Matrix: \n",
            "[[ 32  69]\n",
            " [ 69 236]]\n",
            "For fold 5:\n",
            "Accuracy: 0.7044334975369458\n",
            "Balanced Accuracy: 0.5648758318454796\n",
            "AUC: 0.5648758318454796\n",
            "Confusion Matrix: \n",
            "[[ 29  72]\n",
            " [ 48 257]]\n",
            "Average accuracy: 0.688 Average balanced accuracy: 0.541 Average AUC: 0.541\n",
            "\n",
            "\n",
            "CLASSIFIER:  Random Forest \n",
            "\n",
            "For fold 1:\n",
            "Accuracy: 0.6535626535626535\n",
            "Balanced Accuracy: 0.5772503720960331\n",
            "AUC: 0.5772503720960331\n",
            "Confusion Matrix: \n",
            "[[ 43  58]\n",
            " [ 83 223]]\n",
            "For fold 2:\n",
            "Accuracy: 0.6167076167076168\n",
            "Balanced Accuracy: 0.5859056493884682\n",
            "AUC: 0.5859056493884682\n",
            "Confusion Matrix: \n",
            "[[ 53  48]\n",
            " [108 198]]\n",
            "For fold 3:\n",
            "Accuracy: 0.6535626535626535\n",
            "Balanced Accuracy: 0.5606678314890312\n",
            "AUC: 0.5606678314890312\n",
            "Confusion Matrix: \n",
            "[[ 38  63]\n",
            " [ 78 228]]\n",
            "For fold 4:\n",
            "Accuracy: 0.5886699507389163\n",
            "Balanced Accuracy: 0.5838500243466969\n",
            "AUC: 0.583850024346697\n",
            "Confusion Matrix: \n",
            "[[ 58  43]\n",
            " [124 181]]\n",
            "For fold 5:\n",
            "Accuracy: 0.6773399014778325\n",
            "Balanced Accuracy: 0.6395552670021101\n",
            "AUC: 0.6395552670021101\n",
            "Confusion Matrix: \n",
            "[[ 57  44]\n",
            " [ 87 218]]\n",
            "Average accuracy: 0.638 Average balanced accuracy: 0.589 Average AUC: 0.589\n",
            "\n",
            "\n",
            "CLASSIFIER:  XG Boost \n",
            "\n",
            "For fold 1:\n",
            "Accuracy: 0.6904176904176904\n",
            "Balanced Accuracy: 0.5652785866821977\n",
            "AUC: 0.5652785866821977\n",
            "Confusion Matrix: \n",
            "[[ 32  69]\n",
            " [ 57 249]]\n",
            "For fold 2:\n",
            "Accuracy: 0.6560196560196561\n",
            "Balanced Accuracy: 0.545719277810134\n",
            "AUC: 0.5457192778101339\n",
            "Confusion Matrix: \n",
            "[[ 33  68]\n",
            " [ 72 234]]\n",
            "For fold 3:\n",
            "Accuracy: 0.6805896805896806\n",
            "Balanced Accuracy: 0.5587426389697794\n",
            "AUC: 0.5587426389697794\n",
            "Confusion Matrix: \n",
            "[[ 32  69]\n",
            " [ 61 245]]\n",
            "For fold 4:\n",
            "Accuracy: 0.6502463054187192\n",
            "Balanced Accuracy: 0.5519883135854569\n",
            "AUC: 0.5519883135854569\n",
            "Confusion Matrix: \n",
            "[[ 36  65]\n",
            " [ 77 228]]\n",
            "For fold 5:\n",
            "Accuracy: 0.7044334975369458\n",
            "Balanced Accuracy: 0.5615646810582697\n",
            "AUC: 0.5615646810582697\n",
            "Confusion Matrix: \n",
            "[[ 28  73]\n",
            " [ 47 258]]\n",
            "Average accuracy: 0.676 Average balanced accuracy: 0.557 Average AUC: 0.557\n",
            "\n",
            "\n",
            "CLASSIFIER:  Light GBM \n",
            "\n",
            "For fold 1:\n",
            "Accuracy: 0.6117936117936118\n",
            "Balanced Accuracy: 0.4731929075260467\n",
            "AUC: 0.4731929075260467\n",
            "Confusion Matrix: \n",
            "[[ 20  81]\n",
            " [ 77 229]]\n",
            "For fold 2:\n",
            "Accuracy: 0.6093366093366094\n",
            "Balanced Accuracy: 0.4815084449621433\n",
            "AUC: 0.4815084449621433\n",
            "Confusion Matrix: \n",
            "[[ 23  78]\n",
            " [ 81 225]]\n",
            "For fold 3:\n",
            "Accuracy: 0.6388206388206388\n",
            "Balanced Accuracy: 0.4977997799779978\n",
            "AUC: 0.49779977997799774\n",
            "Confusion Matrix: \n",
            "[[ 22  79]\n",
            " [ 68 238]]\n",
            "For fold 4:\n",
            "Accuracy: 0.6330049261083743\n",
            "Balanced Accuracy: 0.5107125466645025\n",
            "AUC: 0.5107125466645025\n",
            "Confusion Matrix: \n",
            "[[ 27  74]\n",
            " [ 75 230]]\n",
            "For fold 5:\n",
            "Accuracy: 0.625615763546798\n",
            "Balanced Accuracy: 0.48261645836714817\n",
            "AUC: 0.48261645836714817\n",
            "Confusion Matrix: \n",
            "[[ 20  81]\n",
            " [ 71 234]]\n",
            "Average accuracy: 0.624 Average balanced accuracy: 0.489 Average AUC: 0.489\n",
            "\n",
            "\n"
          ]
        }
      ]
    },
    {
      "cell_type": "markdown",
      "source": [
        "##Hyper parameter tuning for Random Forest"
      ],
      "metadata": {
        "id": "xQHb3kbUoCrw"
      }
    },
    {
      "cell_type": "code",
      "source": [
        "# There are likely a number of classifiers in the Rashomon Set\n",
        "# We'll pick the random forest model and optimiz the hyperparameters\n",
        "\n",
        "RF_params = {'criterion':['gini','entropy'],'max_depth':[7,10,15],'class_weight':[{0:0.1, 1:0.9}, {0:0.15, 1:0.85}, {0:0.2, 1:0.8}, {0:0.25, 1:0.75}]}\n",
        "clf = GridSearchCV(RandomForestClassifier(oob_score=True), RF_params, cv=3,scoring='roc_auc')\n",
        "clf.fit(X_train_SMOTE_std, np.ravel(y_train_SMOTE))\n",
        "y_pred = clf.predict(X_test_std)\n",
        "print(confusion_matrix(y_test, y_pred))\n",
        "print(clf.best_params_, clf.best_score_)\n",
        "print(\"Accuracy = \",accuracy_score(y_test, y_pred))\n",
        "print(\"Auc = \",roc_auc_score(y_test, y_pred))"
      ],
      "metadata": {
        "colab": {
          "base_uri": "https://localhost:8080/"
        },
        "id": "9gruHKovRNWl",
        "outputId": "272b290e-cf28-4f73-e9ca-b0d54452f24d"
      },
      "execution_count": null,
      "outputs": [
        {
          "output_type": "stream",
          "name": "stdout",
          "text": [
            "[[  5  96]\n",
            " [ 22 283]]\n",
            "{'class_weight': {0: 0.25, 1: 0.75}, 'criterion': 'entropy', 'max_depth': 10} 0.8090363114963028\n",
            "Accuracy =  0.7093596059113301\n",
            "Auc =  0.488686901477033\n"
          ]
        }
      ]
    },
    {
      "cell_type": "markdown",
      "source": [
        "#**Conclusion**\n",
        "## BLUF\n",
        "\n",
        "Our main objective is to make sure that we give loans to the right people while minimizing the loans to people who would not settle loan on time. \n",
        "\n",
        "After cleaning and partitioning the data set, we use SMOTE to oversample the data since the data is unbalanced. Then, we standardize the z-score, and we perform RFE to find out the 10 most important features. We run the data through several machine learning tools to find out the best classifier. We used accuracy and AUC as our metrics, and we also looked at the confusion matrix to minimize the false positives. In the end, after performing grid search random forest performed the best, giving us an accuracy of 71% and AUC of 49%. We got 283 true positives on our test data, which outweighs the 96 false positives.\n",
        "\n",
        "We believe this data is not very useful in predicting the loan defaulters due to the high numbers of false positives. Adding more data points or more correlated feature may help on improving the accuracy. \n"
      ],
      "metadata": {
        "id": "qRVfy90Bpml6"
      }
    }
  ]
}